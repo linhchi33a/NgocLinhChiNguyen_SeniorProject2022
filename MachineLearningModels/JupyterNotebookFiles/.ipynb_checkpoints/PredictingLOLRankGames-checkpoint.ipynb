{
 "cells": [
  {
   "cell_type": "markdown",
   "id": "75d509c3",
   "metadata": {},
   "source": [
    "## This files contains the Logistic Regression model using orginial variables"
   ]
  },
  {
   "cell_type": "code",
   "execution_count": 1,
   "id": "b128d5f9",
   "metadata": {},
   "outputs": [],
   "source": [
    "import numpy as np\n",
    "import pandas as pd\n",
    "import matplotlib.pyplot as plt\n",
    "#import tensorflow as tf\n",
    "#import seaborn as sns\n",
    "\n",
    "from sklearn.model_selection import train_test_split\n",
    "from sklearn.preprocessing import StandardScaler\n",
    "from sklearn.linear_model import LogisticRegression\n",
    "from sklearn.metrics import recall_score, precision_score, f1_score, accuracy_score\n",
    "from sklearn.model_selection import KFold\n",
    "from tabulate import tabulate"
   ]
  },
  {
   "cell_type": "markdown",
   "id": "eb5ed03b",
   "metadata": {},
   "source": [
    "### Import Data"
   ]
  },
  {
   "cell_type": "code",
   "execution_count": 6,
   "id": "3194bc2a",
   "metadata": {},
   "outputs": [],
   "source": [
    "df_Average = pd.read_excel(r'C:\\Users\\linhc\\OneDrive\\Documents\\Sproj\\NgocLinhChiNguyen_SeniorProject2022\\DataCollection\\Importantfiles\\TrainingValData\\AverageTrainingVal.xlsx')\n",
    "df_Skilled = pd.read_excel(r'C:\\Users\\linhc\\OneDrive\\Documents\\Sproj\\NgocLinhChiNguyen_SeniorProject2022\\DataCollection\\Importantfiles\\TrainingValData\\SkilledTrainingVal.xlsx')\n",
    "df_Elite = pd.read_excel(r'C:\\Users\\linhc\\OneDrive\\Documents\\Sproj\\NgocLinhChiNguyen_SeniorProject2022\\DataCollection\\Importantfiles\\TrainingValData\\EliteTrainingVal.xlsx')"
   ]
  },
  {
   "cell_type": "code",
   "execution_count": 7,
   "id": "79f5b75f",
   "metadata": {
    "scrolled": true
   },
   "outputs": [
    {
     "data": {
      "text/html": [
       "<div>\n",
       "<style scoped>\n",
       "    .dataframe tbody tr th:only-of-type {\n",
       "        vertical-align: middle;\n",
       "    }\n",
       "\n",
       "    .dataframe tbody tr th {\n",
       "        vertical-align: top;\n",
       "    }\n",
       "\n",
       "    .dataframe thead th {\n",
       "        text-align: right;\n",
       "    }\n",
       "</style>\n",
       "<table border=\"1\" class=\"dataframe\">\n",
       "  <thead>\n",
       "    <tr style=\"text-align: right;\">\n",
       "      <th></th>\n",
       "      <th>blueWins</th>\n",
       "      <th>blueWardsPlaced</th>\n",
       "      <th>blueWardsDestroyed</th>\n",
       "      <th>blueKills</th>\n",
       "      <th>blueDeaths</th>\n",
       "      <th>blueAssists</th>\n",
       "      <th>blueEliteMonsters</th>\n",
       "      <th>blueDragons</th>\n",
       "      <th>blueHeraldsBarons</th>\n",
       "      <th>blueTowersDestroyed</th>\n",
       "      <th>...</th>\n",
       "      <th>redEliteMonsters</th>\n",
       "      <th>redDragons</th>\n",
       "      <th>redHeraldsBarons</th>\n",
       "      <th>redTowersDestroyed</th>\n",
       "      <th>redTotalGold</th>\n",
       "      <th>redTotalDamageToChampions</th>\n",
       "      <th>redAvgLevel</th>\n",
       "      <th>redTotalMinionsKilled</th>\n",
       "      <th>redTotalJungleMinionsKilled</th>\n",
       "      <th>redGoldDiff</th>\n",
       "    </tr>\n",
       "  </thead>\n",
       "  <tbody>\n",
       "    <tr>\n",
       "      <th>0</th>\n",
       "      <td>0</td>\n",
       "      <td>32</td>\n",
       "      <td>5</td>\n",
       "      <td>10</td>\n",
       "      <td>15</td>\n",
       "      <td>15</td>\n",
       "      <td>0</td>\n",
       "      <td>0</td>\n",
       "      <td>0</td>\n",
       "      <td>1</td>\n",
       "      <td>...</td>\n",
       "      <td>2</td>\n",
       "      <td>2</td>\n",
       "      <td>0</td>\n",
       "      <td>1</td>\n",
       "      <td>26016</td>\n",
       "      <td>22836</td>\n",
       "      <td>8.4</td>\n",
       "      <td>279</td>\n",
       "      <td>69</td>\n",
       "      <td>1063</td>\n",
       "    </tr>\n",
       "    <tr>\n",
       "      <th>1</th>\n",
       "      <td>1</td>\n",
       "      <td>49</td>\n",
       "      <td>6</td>\n",
       "      <td>10</td>\n",
       "      <td>14</td>\n",
       "      <td>6</td>\n",
       "      <td>1</td>\n",
       "      <td>1</td>\n",
       "      <td>0</td>\n",
       "      <td>0</td>\n",
       "      <td>...</td>\n",
       "      <td>0</td>\n",
       "      <td>0</td>\n",
       "      <td>0</td>\n",
       "      <td>1</td>\n",
       "      <td>25835</td>\n",
       "      <td>20998</td>\n",
       "      <td>8.6</td>\n",
       "      <td>301</td>\n",
       "      <td>77</td>\n",
       "      <td>3740</td>\n",
       "    </tr>\n",
       "    <tr>\n",
       "      <th>2</th>\n",
       "      <td>1</td>\n",
       "      <td>26</td>\n",
       "      <td>2</td>\n",
       "      <td>17</td>\n",
       "      <td>10</td>\n",
       "      <td>24</td>\n",
       "      <td>2</td>\n",
       "      <td>1</td>\n",
       "      <td>1</td>\n",
       "      <td>0</td>\n",
       "      <td>...</td>\n",
       "      <td>0</td>\n",
       "      <td>0</td>\n",
       "      <td>0</td>\n",
       "      <td>1</td>\n",
       "      <td>23499</td>\n",
       "      <td>25089</td>\n",
       "      <td>8.6</td>\n",
       "      <td>268</td>\n",
       "      <td>80</td>\n",
       "      <td>-5804</td>\n",
       "    </tr>\n",
       "    <tr>\n",
       "      <th>3</th>\n",
       "      <td>1</td>\n",
       "      <td>106</td>\n",
       "      <td>8</td>\n",
       "      <td>10</td>\n",
       "      <td>8</td>\n",
       "      <td>18</td>\n",
       "      <td>2</td>\n",
       "      <td>1</td>\n",
       "      <td>1</td>\n",
       "      <td>0</td>\n",
       "      <td>...</td>\n",
       "      <td>1</td>\n",
       "      <td>1</td>\n",
       "      <td>0</td>\n",
       "      <td>0</td>\n",
       "      <td>21625</td>\n",
       "      <td>21831</td>\n",
       "      <td>8.4</td>\n",
       "      <td>297</td>\n",
       "      <td>76</td>\n",
       "      <td>-2583</td>\n",
       "    </tr>\n",
       "    <tr>\n",
       "      <th>4</th>\n",
       "      <td>1</td>\n",
       "      <td>31</td>\n",
       "      <td>10</td>\n",
       "      <td>22</td>\n",
       "      <td>7</td>\n",
       "      <td>24</td>\n",
       "      <td>3</td>\n",
       "      <td>2</td>\n",
       "      <td>1</td>\n",
       "      <td>2</td>\n",
       "      <td>...</td>\n",
       "      <td>0</td>\n",
       "      <td>0</td>\n",
       "      <td>0</td>\n",
       "      <td>0</td>\n",
       "      <td>21954</td>\n",
       "      <td>19995</td>\n",
       "      <td>8.4</td>\n",
       "      <td>293</td>\n",
       "      <td>79</td>\n",
       "      <td>-9229</td>\n",
       "    </tr>\n",
       "    <tr>\n",
       "      <th>...</th>\n",
       "      <td>...</td>\n",
       "      <td>...</td>\n",
       "      <td>...</td>\n",
       "      <td>...</td>\n",
       "      <td>...</td>\n",
       "      <td>...</td>\n",
       "      <td>...</td>\n",
       "      <td>...</td>\n",
       "      <td>...</td>\n",
       "      <td>...</td>\n",
       "      <td>...</td>\n",
       "      <td>...</td>\n",
       "      <td>...</td>\n",
       "      <td>...</td>\n",
       "      <td>...</td>\n",
       "      <td>...</td>\n",
       "      <td>...</td>\n",
       "      <td>...</td>\n",
       "      <td>...</td>\n",
       "      <td>...</td>\n",
       "      <td>...</td>\n",
       "    </tr>\n",
       "    <tr>\n",
       "      <th>8631</th>\n",
       "      <td>1</td>\n",
       "      <td>24</td>\n",
       "      <td>7</td>\n",
       "      <td>6</td>\n",
       "      <td>7</td>\n",
       "      <td>8</td>\n",
       "      <td>1</td>\n",
       "      <td>1</td>\n",
       "      <td>0</td>\n",
       "      <td>0</td>\n",
       "      <td>...</td>\n",
       "      <td>2</td>\n",
       "      <td>1</td>\n",
       "      <td>1</td>\n",
       "      <td>0</td>\n",
       "      <td>23558</td>\n",
       "      <td>19954</td>\n",
       "      <td>8.6</td>\n",
       "      <td>340</td>\n",
       "      <td>100</td>\n",
       "      <td>722</td>\n",
       "    </tr>\n",
       "    <tr>\n",
       "      <th>8632</th>\n",
       "      <td>1</td>\n",
       "      <td>20</td>\n",
       "      <td>8</td>\n",
       "      <td>15</td>\n",
       "      <td>9</td>\n",
       "      <td>13</td>\n",
       "      <td>1</td>\n",
       "      <td>1</td>\n",
       "      <td>0</td>\n",
       "      <td>1</td>\n",
       "      <td>...</td>\n",
       "      <td>1</td>\n",
       "      <td>0</td>\n",
       "      <td>1</td>\n",
       "      <td>1</td>\n",
       "      <td>24741</td>\n",
       "      <td>23249</td>\n",
       "      <td>8.8</td>\n",
       "      <td>317</td>\n",
       "      <td>79</td>\n",
       "      <td>-1783</td>\n",
       "    </tr>\n",
       "    <tr>\n",
       "      <th>8633</th>\n",
       "      <td>1</td>\n",
       "      <td>26</td>\n",
       "      <td>4</td>\n",
       "      <td>17</td>\n",
       "      <td>16</td>\n",
       "      <td>21</td>\n",
       "      <td>3</td>\n",
       "      <td>2</td>\n",
       "      <td>1</td>\n",
       "      <td>1</td>\n",
       "      <td>...</td>\n",
       "      <td>0</td>\n",
       "      <td>0</td>\n",
       "      <td>0</td>\n",
       "      <td>0</td>\n",
       "      <td>25491</td>\n",
       "      <td>31258</td>\n",
       "      <td>8.6</td>\n",
       "      <td>246</td>\n",
       "      <td>62</td>\n",
       "      <td>-2358</td>\n",
       "    </tr>\n",
       "    <tr>\n",
       "      <th>8634</th>\n",
       "      <td>1</td>\n",
       "      <td>27</td>\n",
       "      <td>9</td>\n",
       "      <td>7</td>\n",
       "      <td>13</td>\n",
       "      <td>11</td>\n",
       "      <td>1</td>\n",
       "      <td>1</td>\n",
       "      <td>0</td>\n",
       "      <td>0</td>\n",
       "      <td>...</td>\n",
       "      <td>1</td>\n",
       "      <td>0</td>\n",
       "      <td>1</td>\n",
       "      <td>1</td>\n",
       "      <td>25270</td>\n",
       "      <td>21193</td>\n",
       "      <td>9.0</td>\n",
       "      <td>297</td>\n",
       "      <td>68</td>\n",
       "      <td>2430</td>\n",
       "    </tr>\n",
       "    <tr>\n",
       "      <th>8635</th>\n",
       "      <td>0</td>\n",
       "      <td>20</td>\n",
       "      <td>4</td>\n",
       "      <td>8</td>\n",
       "      <td>13</td>\n",
       "      <td>4</td>\n",
       "      <td>1</td>\n",
       "      <td>0</td>\n",
       "      <td>1</td>\n",
       "      <td>0</td>\n",
       "      <td>...</td>\n",
       "      <td>1</td>\n",
       "      <td>1</td>\n",
       "      <td>0</td>\n",
       "      <td>1</td>\n",
       "      <td>28009</td>\n",
       "      <td>24678</td>\n",
       "      <td>9.6</td>\n",
       "      <td>387</td>\n",
       "      <td>87</td>\n",
       "      <td>4429</td>\n",
       "    </tr>\n",
       "  </tbody>\n",
       "</table>\n",
       "<p>8636 rows × 31 columns</p>\n",
       "</div>"
      ],
      "text/plain": [
       "      blueWins  blueWardsPlaced  blueWardsDestroyed  blueKills  blueDeaths  \\\n",
       "0            0               32                   5         10          15   \n",
       "1            1               49                   6         10          14   \n",
       "2            1               26                   2         17          10   \n",
       "3            1              106                   8         10           8   \n",
       "4            1               31                  10         22           7   \n",
       "...        ...              ...                 ...        ...         ...   \n",
       "8631         1               24                   7          6           7   \n",
       "8632         1               20                   8         15           9   \n",
       "8633         1               26                   4         17          16   \n",
       "8634         1               27                   9          7          13   \n",
       "8635         0               20                   4          8          13   \n",
       "\n",
       "      blueAssists  blueEliteMonsters  blueDragons  blueHeraldsBarons  \\\n",
       "0              15                  0            0                  0   \n",
       "1               6                  1            1                  0   \n",
       "2              24                  2            1                  1   \n",
       "3              18                  2            1                  1   \n",
       "4              24                  3            2                  1   \n",
       "...           ...                ...          ...                ...   \n",
       "8631            8                  1            1                  0   \n",
       "8632           13                  1            1                  0   \n",
       "8633           21                  3            2                  1   \n",
       "8634           11                  1            1                  0   \n",
       "8635            4                  1            0                  1   \n",
       "\n",
       "      blueTowersDestroyed  ...  redEliteMonsters  redDragons  \\\n",
       "0                       1  ...                 2           2   \n",
       "1                       0  ...                 0           0   \n",
       "2                       0  ...                 0           0   \n",
       "3                       0  ...                 1           1   \n",
       "4                       2  ...                 0           0   \n",
       "...                   ...  ...               ...         ...   \n",
       "8631                    0  ...                 2           1   \n",
       "8632                    1  ...                 1           0   \n",
       "8633                    1  ...                 0           0   \n",
       "8634                    0  ...                 1           0   \n",
       "8635                    0  ...                 1           1   \n",
       "\n",
       "      redHeraldsBarons  redTowersDestroyed  redTotalGold  \\\n",
       "0                    0                   1         26016   \n",
       "1                    0                   1         25835   \n",
       "2                    0                   1         23499   \n",
       "3                    0                   0         21625   \n",
       "4                    0                   0         21954   \n",
       "...                ...                 ...           ...   \n",
       "8631                 1                   0         23558   \n",
       "8632                 1                   1         24741   \n",
       "8633                 0                   0         25491   \n",
       "8634                 1                   1         25270   \n",
       "8635                 0                   1         28009   \n",
       "\n",
       "      redTotalDamageToChampions  redAvgLevel  redTotalMinionsKilled  \\\n",
       "0                         22836          8.4                    279   \n",
       "1                         20998          8.6                    301   \n",
       "2                         25089          8.6                    268   \n",
       "3                         21831          8.4                    297   \n",
       "4                         19995          8.4                    293   \n",
       "...                         ...          ...                    ...   \n",
       "8631                      19954          8.6                    340   \n",
       "8632                      23249          8.8                    317   \n",
       "8633                      31258          8.6                    246   \n",
       "8634                      21193          9.0                    297   \n",
       "8635                      24678          9.6                    387   \n",
       "\n",
       "      redTotalJungleMinionsKilled  redGoldDiff  \n",
       "0                              69         1063  \n",
       "1                              77         3740  \n",
       "2                              80        -5804  \n",
       "3                              76        -2583  \n",
       "4                              79        -9229  \n",
       "...                           ...          ...  \n",
       "8631                          100          722  \n",
       "8632                           79        -1783  \n",
       "8633                           62        -2358  \n",
       "8634                           68         2430  \n",
       "8635                           87         4429  \n",
       "\n",
       "[8636 rows x 31 columns]"
      ]
     },
     "execution_count": 7,
     "metadata": {},
     "output_type": "execute_result"
    }
   ],
   "source": [
    "df_Elite"
   ]
  },
  {
   "cell_type": "code",
   "execution_count": 8,
   "id": "b5ace32f",
   "metadata": {},
   "outputs": [],
   "source": [
    "#Removing the redGoldDiff variable as it is a duplicate with blueGoldDiff\n",
    "df_Elite = df_Elite.drop('redGoldDiff', axis=1)\n",
    "df_Average = df_Average.drop('redGoldDiff', axis=1)\n",
    "df_Skilled = df_Skilled.drop('redGoldDiff', axis=1)"
   ]
  },
  {
   "cell_type": "markdown",
   "id": "7f5666f0",
   "metadata": {},
   "source": [
    "### Checking for bias"
   ]
  },
  {
   "cell_type": "code",
   "execution_count": 9,
   "id": "01b58048",
   "metadata": {},
   "outputs": [],
   "source": [
    "def winPercentage(df):\n",
    "    df = df.copy()\n",
    "    y = df['blueWins']\n",
    "    blueWin = sum(y)\n",
    "    blue = blueWin/len(y)\n",
    "    red = 1 - blue\n",
    "    return blue,red"
   ]
  },
  {
   "cell_type": "code",
   "execution_count": 10,
   "id": "b8f305d6",
   "metadata": {},
   "outputs": [
    {
     "name": "stdout",
     "output_type": "stream",
     "text": [
      "blue wins: 0.5020842982862437\n",
      "red wins: 0.4979157017137563\n"
     ]
    }
   ],
   "source": [
    "#Elite\n",
    "blue,red = winPercentage(df_Elite)\n",
    "print('blue wins: '+ str(blue))\n",
    "print('red wins: ' + str(red))"
   ]
  },
  {
   "cell_type": "code",
   "execution_count": 11,
   "id": "311ab215",
   "metadata": {},
   "outputs": [
    {
     "name": "stdout",
     "output_type": "stream",
     "text": [
      "blue wins: 0.49506564455018065\n",
      "red wins: 0.5049343554498193\n"
     ]
    }
   ],
   "source": [
    "#Skilled\n",
    "blue,red = winPercentage(df_Skilled)\n",
    "print('blue wins: '+ str(blue))\n",
    "print('red wins: ' + str(red))"
   ]
  },
  {
   "cell_type": "code",
   "execution_count": 12,
   "id": "ec4b6b4f",
   "metadata": {},
   "outputs": [
    {
     "name": "stdout",
     "output_type": "stream",
     "text": [
      "blue wins: 0.5033655044695324\n",
      "red wins: 0.49663449553046757\n"
     ]
    }
   ],
   "source": [
    "#Average\n",
    "blue,red = winPercentage(df_Average)\n",
    "print('blue wins: '+ str(blue))\n",
    "print('red wins: ' + str(red))"
   ]
  },
  {
   "cell_type": "markdown",
   "id": "2929b100",
   "metadata": {},
   "source": [
    "# Cross Validation spliting data"
   ]
  },
  {
   "cell_type": "markdown",
   "id": "a912d5b4",
   "metadata": {},
   "source": [
    "## Getting training-valdata"
   ]
  },
  {
   "cell_type": "code",
   "execution_count": 13,
   "id": "d6b05f25",
   "metadata": {},
   "outputs": [],
   "source": [
    "def splitingDataFold(df):\n",
    "    df = df.copy()\n",
    "    #spliting data test- training\n",
    "    x = df.iloc[:, 1:30]\n",
    "    y = df.iloc[:, 0]\n",
    "    #Scale the data\n",
    "    scaler = StandardScaler()\n",
    "    x = scaler.fit_transform(x)\n",
    "    #splitting data into 5 folds\n",
    "    #random state 42 to help keep the results the same for the report as we rerun the model multiple times.\n",
    "    kf = KFold(n_splits=5, random_state = 42, shuffle=True)\n",
    "    xTrain=[]\n",
    "    yTrain=[]\n",
    "    yTest=[]\n",
    "    xTest=[]\n",
    "    for train_index, test_index in kf.split(x):\n",
    "        print(\"TRAIN:\", train_index, \"TEST:\", test_index)\n",
    "        xTrain.append(x[train_index])\n",
    "        xTest.append(x[test_index])\n",
    "        yTrain.append(y[train_index])\n",
    "        yTest.append(y[test_index])\n",
    "    \n",
    "    return xTrain,xTest,yTrain,yTest\n",
    "    "
   ]
  },
  {
   "cell_type": "code",
   "execution_count": 14,
   "id": "edd3921c",
   "metadata": {},
   "outputs": [],
   "source": [
    "## Splitting the 3 groups"
   ]
  },
  {
   "cell_type": "code",
   "execution_count": 15,
   "id": "43ee363d",
   "metadata": {},
   "outputs": [
    {
     "name": "stdout",
     "output_type": "stream",
     "text": [
      "TRAIN: [   0    1    2 ... 8632 8633 8635] TEST: [   8   14   17 ... 8626 8629 8634]\n",
      "TRAIN: [   1    2    3 ... 8633 8634 8635] TEST: [   0   15   29 ... 8601 8611 8630]\n",
      "TRAIN: [   0    1    2 ... 8633 8634 8635] TEST: [   6   12   18 ... 8627 8628 8632]\n",
      "TRAIN: [   0    2    3 ... 8630 8632 8634] TEST: [   1    7   11 ... 8631 8633 8635]\n",
      "TRAIN: [   0    1    6 ... 8633 8634 8635] TEST: [   2    3    4 ... 8618 8621 8623]\n",
      "Training set: 6908 samples\n",
      "Test set: 1728 samples\n"
     ]
    }
   ],
   "source": [
    "xTrain_Elite,xTest_Elite,yTrain_Elite,yTest_Elite = splitingDataFold(df_Elite)\n",
    "print (\"Training set: {} samples\".format(len(xTrain_Elite[0])))\n",
    "print (\"Test set: {} samples\".format(len(xTest_Elite[0])))"
   ]
  },
  {
   "cell_type": "code",
   "execution_count": 16,
   "id": "e194e91b",
   "metadata": {},
   "outputs": [
    {
     "name": "stdout",
     "output_type": "stream",
     "text": [
      "TRAIN: [    0     1     2 ... 22694 22695 22697] TEST: [    3    17    31 ... 22686 22691 22696]\n",
      "TRAIN: [    1     2     3 ... 22695 22696 22697] TEST: [    0     4     5 ... 22685 22689 22693]\n",
      "TRAIN: [    0     1     3 ... 22695 22696 22697] TEST: [    2     7    10 ... 22679 22690 22692]\n",
      "TRAIN: [    0     2     3 ... 22695 22696 22697] TEST: [    1    12    18 ... 22673 22687 22694]\n",
      "TRAIN: [    0     1     2 ... 22693 22694 22696] TEST: [    9    11    13 ... 22688 22695 22697]\n",
      "Training set: 18158 samples\n",
      "Test set: 4540 samples\n"
     ]
    }
   ],
   "source": [
    "xTrain_Skilled,xTest_Skilled,yTrain_Skilled,yTest_Skilled = splitingDataFold(df_Skilled)\n",
    "print (\"Training set: {} samples\".format(len(xTrain_Skilled[0])))\n",
    "print (\"Test set: {} samples\".format(len(xTest_Skilled[0])))"
   ]
  },
  {
   "cell_type": "code",
   "execution_count": 17,
   "id": "e0a9125e",
   "metadata": {},
   "outputs": [
    {
     "name": "stdout",
     "output_type": "stream",
     "text": [
      "TRAIN: [    0     1     2 ... 56155 56156 56157] TEST: [    4     6    31 ... 56127 56146 56151]\n",
      "TRAIN: [    2     3     4 ... 56155 56156 56157] TEST: [    0     1     7 ... 56143 56144 56154]\n",
      "TRAIN: [    0     1     2 ... 56152 56154 56155] TEST: [    3     8    14 ... 56153 56156 56157]\n",
      "TRAIN: [    0     1     2 ... 56155 56156 56157] TEST: [    5    15    18 ... 56145 56150 56152]\n",
      "TRAIN: [    0     1     3 ... 56154 56156 56157] TEST: [    2     9    10 ... 56136 56141 56155]\n",
      "Training set: 44926 samples\n",
      "Test set: 11232 samples\n"
     ]
    }
   ],
   "source": [
    "xTrain_Average,xTest_Average,yTrain_Average,yTest_Average = splitingDataFold(df_Average)\n",
    "print (\"Training set: {} samples\".format(len(xTrain_Average[0])))\n",
    "print (\"Test set: {} samples\".format(len(xTest_Average[0])))"
   ]
  },
  {
   "cell_type": "markdown",
   "id": "98c67061",
   "metadata": {},
   "source": [
    "### Training logistic regression"
   ]
  },
  {
   "cell_type": "code",
   "execution_count": 18,
   "id": "ee93a68c",
   "metadata": {},
   "outputs": [],
   "source": [
    "def trainingModelLogisticRegression(x_train,y_train,reg,sol):\n",
    "    lr = LogisticRegression(penalty=reg, solver=sol,max_iter=1000)\n",
    "    lr.fit(x_train,y_train)\n",
    "    return lr"
   ]
  },
  {
   "cell_type": "markdown",
   "id": "821905ef",
   "metadata": {},
   "source": [
    "#### l1 regulization"
   ]
  },
  {
   "cell_type": "code",
   "execution_count": 19,
   "id": "861b0b59",
   "metadata": {},
   "outputs": [],
   "source": [
    "trainedEliteLrL1=[]\n",
    "trainedAverageLrL1=[]\n",
    "trainedSkilledLrL1=[]\n",
    "for i in range(0,5):\n",
    "    trainedEliteLrL1.append(trainingModelLogisticRegression(xTrain_Elite[i],yTrain_Elite[i],'l1','saga'))\n",
    "    trainedAverageLrL1.append(trainingModelLogisticRegression(xTrain_Average[i],yTrain_Average[i],'l1','saga'))\n",
    "    trainedSkilledLrL1.append(trainingModelLogisticRegression(xTrain_Skilled[i],yTrain_Skilled[i],'l1','saga'))"
   ]
  },
  {
   "cell_type": "markdown",
   "id": "cdbd0a68",
   "metadata": {},
   "source": [
    "#### l2 regulization"
   ]
  },
  {
   "cell_type": "code",
   "execution_count": 20,
   "id": "ee679360",
   "metadata": {},
   "outputs": [],
   "source": [
    "trainedEliteLrL2=[]\n",
    "trainedAverageLrL2=[]\n",
    "trainedSkilledLrL2=[]\n",
    "for i in range(0,5):\n",
    "    trainedEliteLrL2.append(trainingModelLogisticRegression(xTrain_Elite[i],yTrain_Elite[i],'l2','saga'))\n",
    "    trainedAverageLrL2.append(trainingModelLogisticRegression(xTrain_Average[i],yTrain_Average[i],'l2','saga'))\n",
    "    trainedSkilledLrL2.append(trainingModelLogisticRegression(xTrain_Skilled[i],yTrain_Skilled[i],'l2','saga'))"
   ]
  },
  {
   "cell_type": "markdown",
   "id": "ded287a0",
   "metadata": {},
   "source": [
    "#### No Regulaztion"
   ]
  },
  {
   "cell_type": "code",
   "execution_count": 21,
   "id": "3494d244",
   "metadata": {},
   "outputs": [],
   "source": [
    "trainedEliteLrNone=[]\n",
    "trainedAverageLrNone=[]\n",
    "trainedSkilledLrNone=[]\n",
    "for i in range(0,5):\n",
    "    trainedEliteLrNone.append(trainingModelLogisticRegression(xTrain_Elite[i],yTrain_Elite[i],'none','saga'))\n",
    "    trainedAverageLrNone.append(trainingModelLogisticRegression(xTrain_Average[i],yTrain_Average[i],'none','saga'))\n",
    "    trainedSkilledLrNone.append(trainingModelLogisticRegression(xTrain_Skilled[i],yTrain_Skilled[i],'none','saga'))"
   ]
  },
  {
   "cell_type": "markdown",
   "id": "ea6f4fd6",
   "metadata": {},
   "source": [
    "### Tesing Model"
   ]
  },
  {
   "cell_type": "code",
   "execution_count": 22,
   "id": "979936b8",
   "metadata": {},
   "outputs": [],
   "source": [
    "def testingLr(lr,x_test,y_test):\n",
    "    name = ['','fold 1','fold 2','fold 3','fold 4','fold 5','Average']\n",
    "    acc = ['Accuracy']\n",
    "    pre = ['Precision']\n",
    "    re = ['Recall']\n",
    "    f1 = ['F1 Score']\n",
    "    sumacc=0\n",
    "    sumf1=0\n",
    "    sumpre=0\n",
    "    sumre= 0\n",
    "\n",
    "    for i in range(0,5):\n",
    "        \n",
    "        testEliteLr = lr[i].predict(x_test[i])\n",
    "        testEliteLr_prob = lr[i].predict_proba(x_test[i])\n",
    "        \n",
    "        accs= accuracy_score(y_test[i], testEliteLr)\n",
    "        pres= precision_score(y_test[i], testEliteLr)\n",
    "        res = recall_score(y_test[i], testEliteLr)\n",
    "        f1s = f1_score(y_test[i], testEliteLr)\n",
    "        \n",
    "        sumacc =sumacc+accs\n",
    "        sumpre =sumpre+pres\n",
    "        sumre = sumre +res\n",
    "        sumf1 =sumf1+f1s\n",
    "        \n",
    "        acc.append(' {:.5f}'.format(accs))\n",
    "        pre.append(' {:.5f}'.format(pres))\n",
    "        re.append(' {:.5f}'.format(res))\n",
    "        f1.append(' {:.5f}'.format(f1s))\n",
    "        \n",
    "    acc.append(' {:.5f}'.format(sumacc/5))\n",
    "    pre.append(' {:.5f}'.format(sumpre/5))\n",
    "    re.append(' {:.5f}'.format(sumre/5))\n",
    "    f1.append(' {:.5f}'.format(sumf1/5))\n",
    "    \n",
    "    table=[]\n",
    "    table.append(name)\n",
    "    table.append(acc)\n",
    "    table.append(pre)\n",
    "    table.append(re)\n",
    "    table.append(f1)\n",
    "    \n",
    "    print(tabulate(table))\n"
   ]
  },
  {
   "cell_type": "markdown",
   "id": "ba80c65d",
   "metadata": {},
   "source": [
    "## Importing Testing Data \n",
    "Getting the 10% of testing data for each group that have not been touch "
   ]
  },
  {
   "cell_type": "code",
   "execution_count": 23,
   "id": "e8eb2749",
   "metadata": {},
   "outputs": [],
   "source": [
    "df_AverageTest = pd.read_excel(r'C:\\Users\\linhc\\OneDrive\\Documents\\Sproj\\NgocLinhChiNguyen_SeniorProject2022\\DataCollection\\Importantfiles\\TestingData\\AverageTesting.xlsx')\n",
    "df_SkilledTest = pd.read_excel(r'C:\\Users\\linhc\\OneDrive\\Documents\\Sproj\\NgocLinhChiNguyen_SeniorProject2022\\DataCollection\\Importantfiles\\TestingData\\SkilledTesting.xlsx')\n",
    "df_EliteTest = pd.read_excel(r'C:\\Users\\linhc\\OneDrive\\Documents\\Sproj\\NgocLinhChiNguyen_SeniorProject2022\\DataCollection\\Importantfiles\\TestingData\\EliteTesting.xlsx')"
   ]
  },
  {
   "cell_type": "code",
   "execution_count": 24,
   "id": "74e894bb",
   "metadata": {},
   "outputs": [
    {
     "data": {
      "text/html": [
       "<div>\n",
       "<style scoped>\n",
       "    .dataframe tbody tr th:only-of-type {\n",
       "        vertical-align: middle;\n",
       "    }\n",
       "\n",
       "    .dataframe tbody tr th {\n",
       "        vertical-align: top;\n",
       "    }\n",
       "\n",
       "    .dataframe thead th {\n",
       "        text-align: right;\n",
       "    }\n",
       "</style>\n",
       "<table border=\"1\" class=\"dataframe\">\n",
       "  <thead>\n",
       "    <tr style=\"text-align: right;\">\n",
       "      <th></th>\n",
       "      <th>blueWins</th>\n",
       "      <th>blueWardsPlaced</th>\n",
       "      <th>blueWardsDestroyed</th>\n",
       "      <th>blueKills</th>\n",
       "      <th>blueDeaths</th>\n",
       "      <th>blueAssists</th>\n",
       "      <th>blueEliteMonsters</th>\n",
       "      <th>blueDragons</th>\n",
       "      <th>blueHeraldsBarons</th>\n",
       "      <th>blueTowersDestroyed</th>\n",
       "      <th>...</th>\n",
       "      <th>redEliteMonsters</th>\n",
       "      <th>redDragons</th>\n",
       "      <th>redHeraldsBarons</th>\n",
       "      <th>redTowersDestroyed</th>\n",
       "      <th>redTotalGold</th>\n",
       "      <th>redTotalDamageToChampions</th>\n",
       "      <th>redAvgLevel</th>\n",
       "      <th>redTotalMinionsKilled</th>\n",
       "      <th>redTotalJungleMinionsKilled</th>\n",
       "      <th>redGoldDiff</th>\n",
       "    </tr>\n",
       "  </thead>\n",
       "  <tbody>\n",
       "    <tr>\n",
       "      <th>0</th>\n",
       "      <td>0</td>\n",
       "      <td>22</td>\n",
       "      <td>11</td>\n",
       "      <td>9</td>\n",
       "      <td>12</td>\n",
       "      <td>13</td>\n",
       "      <td>1</td>\n",
       "      <td>0</td>\n",
       "      <td>1</td>\n",
       "      <td>1</td>\n",
       "      <td>...</td>\n",
       "      <td>2</td>\n",
       "      <td>2</td>\n",
       "      <td>0</td>\n",
       "      <td>1</td>\n",
       "      <td>25616</td>\n",
       "      <td>25521</td>\n",
       "      <td>8.8</td>\n",
       "      <td>280</td>\n",
       "      <td>92</td>\n",
       "      <td>1102</td>\n",
       "    </tr>\n",
       "    <tr>\n",
       "      <th>1</th>\n",
       "      <td>1</td>\n",
       "      <td>21</td>\n",
       "      <td>2</td>\n",
       "      <td>21</td>\n",
       "      <td>9</td>\n",
       "      <td>27</td>\n",
       "      <td>2</td>\n",
       "      <td>1</td>\n",
       "      <td>1</td>\n",
       "      <td>2</td>\n",
       "      <td>...</td>\n",
       "      <td>1</td>\n",
       "      <td>1</td>\n",
       "      <td>0</td>\n",
       "      <td>0</td>\n",
       "      <td>24381</td>\n",
       "      <td>25609</td>\n",
       "      <td>8.8</td>\n",
       "      <td>303</td>\n",
       "      <td>87</td>\n",
       "      <td>-6699</td>\n",
       "    </tr>\n",
       "    <tr>\n",
       "      <th>2</th>\n",
       "      <td>0</td>\n",
       "      <td>23</td>\n",
       "      <td>3</td>\n",
       "      <td>10</td>\n",
       "      <td>13</td>\n",
       "      <td>12</td>\n",
       "      <td>0</td>\n",
       "      <td>0</td>\n",
       "      <td>0</td>\n",
       "      <td>0</td>\n",
       "      <td>...</td>\n",
       "      <td>1</td>\n",
       "      <td>1</td>\n",
       "      <td>0</td>\n",
       "      <td>1</td>\n",
       "      <td>26278</td>\n",
       "      <td>22317</td>\n",
       "      <td>9.0</td>\n",
       "      <td>299</td>\n",
       "      <td>97</td>\n",
       "      <td>2178</td>\n",
       "    </tr>\n",
       "    <tr>\n",
       "      <th>3</th>\n",
       "      <td>1</td>\n",
       "      <td>26</td>\n",
       "      <td>7</td>\n",
       "      <td>15</td>\n",
       "      <td>9</td>\n",
       "      <td>15</td>\n",
       "      <td>1</td>\n",
       "      <td>0</td>\n",
       "      <td>1</td>\n",
       "      <td>3</td>\n",
       "      <td>...</td>\n",
       "      <td>1</td>\n",
       "      <td>1</td>\n",
       "      <td>0</td>\n",
       "      <td>0</td>\n",
       "      <td>23139</td>\n",
       "      <td>21203</td>\n",
       "      <td>8.6</td>\n",
       "      <td>303</td>\n",
       "      <td>67</td>\n",
       "      <td>-5808</td>\n",
       "    </tr>\n",
       "    <tr>\n",
       "      <th>4</th>\n",
       "      <td>1</td>\n",
       "      <td>29</td>\n",
       "      <td>5</td>\n",
       "      <td>21</td>\n",
       "      <td>17</td>\n",
       "      <td>23</td>\n",
       "      <td>1</td>\n",
       "      <td>0</td>\n",
       "      <td>1</td>\n",
       "      <td>1</td>\n",
       "      <td>...</td>\n",
       "      <td>1</td>\n",
       "      <td>1</td>\n",
       "      <td>0</td>\n",
       "      <td>0</td>\n",
       "      <td>28603</td>\n",
       "      <td>28449</td>\n",
       "      <td>8.8</td>\n",
       "      <td>254</td>\n",
       "      <td>81</td>\n",
       "      <td>-1797</td>\n",
       "    </tr>\n",
       "    <tr>\n",
       "      <th>...</th>\n",
       "      <td>...</td>\n",
       "      <td>...</td>\n",
       "      <td>...</td>\n",
       "      <td>...</td>\n",
       "      <td>...</td>\n",
       "      <td>...</td>\n",
       "      <td>...</td>\n",
       "      <td>...</td>\n",
       "      <td>...</td>\n",
       "      <td>...</td>\n",
       "      <td>...</td>\n",
       "      <td>...</td>\n",
       "      <td>...</td>\n",
       "      <td>...</td>\n",
       "      <td>...</td>\n",
       "      <td>...</td>\n",
       "      <td>...</td>\n",
       "      <td>...</td>\n",
       "      <td>...</td>\n",
       "      <td>...</td>\n",
       "      <td>...</td>\n",
       "    </tr>\n",
       "    <tr>\n",
       "      <th>954</th>\n",
       "      <td>1</td>\n",
       "      <td>24</td>\n",
       "      <td>2</td>\n",
       "      <td>15</td>\n",
       "      <td>10</td>\n",
       "      <td>17</td>\n",
       "      <td>1</td>\n",
       "      <td>0</td>\n",
       "      <td>1</td>\n",
       "      <td>0</td>\n",
       "      <td>...</td>\n",
       "      <td>1</td>\n",
       "      <td>1</td>\n",
       "      <td>0</td>\n",
       "      <td>0</td>\n",
       "      <td>22568</td>\n",
       "      <td>25715</td>\n",
       "      <td>8.4</td>\n",
       "      <td>265</td>\n",
       "      <td>69</td>\n",
       "      <td>-2611</td>\n",
       "    </tr>\n",
       "    <tr>\n",
       "      <th>955</th>\n",
       "      <td>0</td>\n",
       "      <td>26</td>\n",
       "      <td>5</td>\n",
       "      <td>16</td>\n",
       "      <td>11</td>\n",
       "      <td>23</td>\n",
       "      <td>3</td>\n",
       "      <td>2</td>\n",
       "      <td>1</td>\n",
       "      <td>0</td>\n",
       "      <td>...</td>\n",
       "      <td>0</td>\n",
       "      <td>0</td>\n",
       "      <td>0</td>\n",
       "      <td>1</td>\n",
       "      <td>24944</td>\n",
       "      <td>21386</td>\n",
       "      <td>9.0</td>\n",
       "      <td>292</td>\n",
       "      <td>72</td>\n",
       "      <td>-3159</td>\n",
       "    </tr>\n",
       "    <tr>\n",
       "      <th>956</th>\n",
       "      <td>1</td>\n",
       "      <td>117</td>\n",
       "      <td>13</td>\n",
       "      <td>10</td>\n",
       "      <td>9</td>\n",
       "      <td>9</td>\n",
       "      <td>2</td>\n",
       "      <td>1</td>\n",
       "      <td>1</td>\n",
       "      <td>1</td>\n",
       "      <td>...</td>\n",
       "      <td>0</td>\n",
       "      <td>0</td>\n",
       "      <td>0</td>\n",
       "      <td>0</td>\n",
       "      <td>22375</td>\n",
       "      <td>22877</td>\n",
       "      <td>8.4</td>\n",
       "      <td>310</td>\n",
       "      <td>55</td>\n",
       "      <td>-4104</td>\n",
       "    </tr>\n",
       "    <tr>\n",
       "      <th>957</th>\n",
       "      <td>0</td>\n",
       "      <td>23</td>\n",
       "      <td>1</td>\n",
       "      <td>7</td>\n",
       "      <td>8</td>\n",
       "      <td>9</td>\n",
       "      <td>1</td>\n",
       "      <td>0</td>\n",
       "      <td>1</td>\n",
       "      <td>2</td>\n",
       "      <td>...</td>\n",
       "      <td>1</td>\n",
       "      <td>1</td>\n",
       "      <td>0</td>\n",
       "      <td>0</td>\n",
       "      <td>22897</td>\n",
       "      <td>24149</td>\n",
       "      <td>8.6</td>\n",
       "      <td>310</td>\n",
       "      <td>82</td>\n",
       "      <td>-746</td>\n",
       "    </tr>\n",
       "    <tr>\n",
       "      <th>958</th>\n",
       "      <td>0</td>\n",
       "      <td>25</td>\n",
       "      <td>2</td>\n",
       "      <td>11</td>\n",
       "      <td>15</td>\n",
       "      <td>9</td>\n",
       "      <td>0</td>\n",
       "      <td>0</td>\n",
       "      <td>0</td>\n",
       "      <td>1</td>\n",
       "      <td>...</td>\n",
       "      <td>3</td>\n",
       "      <td>2</td>\n",
       "      <td>1</td>\n",
       "      <td>1</td>\n",
       "      <td>25556</td>\n",
       "      <td>25053</td>\n",
       "      <td>8.6</td>\n",
       "      <td>237</td>\n",
       "      <td>98</td>\n",
       "      <td>100</td>\n",
       "    </tr>\n",
       "  </tbody>\n",
       "</table>\n",
       "<p>959 rows × 31 columns</p>\n",
       "</div>"
      ],
      "text/plain": [
       "     blueWins  blueWardsPlaced  blueWardsDestroyed  blueKills  blueDeaths  \\\n",
       "0           0               22                  11          9          12   \n",
       "1           1               21                   2         21           9   \n",
       "2           0               23                   3         10          13   \n",
       "3           1               26                   7         15           9   \n",
       "4           1               29                   5         21          17   \n",
       "..        ...              ...                 ...        ...         ...   \n",
       "954         1               24                   2         15          10   \n",
       "955         0               26                   5         16          11   \n",
       "956         1              117                  13         10           9   \n",
       "957         0               23                   1          7           8   \n",
       "958         0               25                   2         11          15   \n",
       "\n",
       "     blueAssists  blueEliteMonsters  blueDragons  blueHeraldsBarons  \\\n",
       "0             13                  1            0                  1   \n",
       "1             27                  2            1                  1   \n",
       "2             12                  0            0                  0   \n",
       "3             15                  1            0                  1   \n",
       "4             23                  1            0                  1   \n",
       "..           ...                ...          ...                ...   \n",
       "954           17                  1            0                  1   \n",
       "955           23                  3            2                  1   \n",
       "956            9                  2            1                  1   \n",
       "957            9                  1            0                  1   \n",
       "958            9                  0            0                  0   \n",
       "\n",
       "     blueTowersDestroyed  ...  redEliteMonsters  redDragons  redHeraldsBarons  \\\n",
       "0                      1  ...                 2           2                 0   \n",
       "1                      2  ...                 1           1                 0   \n",
       "2                      0  ...                 1           1                 0   \n",
       "3                      3  ...                 1           1                 0   \n",
       "4                      1  ...                 1           1                 0   \n",
       "..                   ...  ...               ...         ...               ...   \n",
       "954                    0  ...                 1           1                 0   \n",
       "955                    0  ...                 0           0                 0   \n",
       "956                    1  ...                 0           0                 0   \n",
       "957                    2  ...                 1           1                 0   \n",
       "958                    1  ...                 3           2                 1   \n",
       "\n",
       "     redTowersDestroyed  redTotalGold  redTotalDamageToChampions  redAvgLevel  \\\n",
       "0                     1         25616                      25521          8.8   \n",
       "1                     0         24381                      25609          8.8   \n",
       "2                     1         26278                      22317          9.0   \n",
       "3                     0         23139                      21203          8.6   \n",
       "4                     0         28603                      28449          8.8   \n",
       "..                  ...           ...                        ...          ...   \n",
       "954                   0         22568                      25715          8.4   \n",
       "955                   1         24944                      21386          9.0   \n",
       "956                   0         22375                      22877          8.4   \n",
       "957                   0         22897                      24149          8.6   \n",
       "958                   1         25556                      25053          8.6   \n",
       "\n",
       "     redTotalMinionsKilled  redTotalJungleMinionsKilled  redGoldDiff  \n",
       "0                      280                           92         1102  \n",
       "1                      303                           87        -6699  \n",
       "2                      299                           97         2178  \n",
       "3                      303                           67        -5808  \n",
       "4                      254                           81        -1797  \n",
       "..                     ...                          ...          ...  \n",
       "954                    265                           69        -2611  \n",
       "955                    292                           72        -3159  \n",
       "956                    310                           55        -4104  \n",
       "957                    310                           82         -746  \n",
       "958                    237                           98          100  \n",
       "\n",
       "[959 rows x 31 columns]"
      ]
     },
     "execution_count": 24,
     "metadata": {},
     "output_type": "execute_result"
    }
   ],
   "source": [
    "df_EliteTest"
   ]
  },
  {
   "cell_type": "markdown",
   "id": "f3cd7f01",
   "metadata": {},
   "source": [
    "### Scale and separate Testing Data"
   ]
  },
  {
   "cell_type": "code",
   "execution_count": 26,
   "id": "84813d97",
   "metadata": {},
   "outputs": [],
   "source": [
    "def splittingDataTesting(df):\n",
    "    df = df.copy()\n",
    "    #spliting x -y\n",
    "    x = df.iloc[:, 1:33]\n",
    "    y = df.iloc[:, 0]\n",
    "    #Scale the data\n",
    "    scaler = StandardScaler()\n",
    "    x = scaler.fit_transform(x)\n",
    "    return x,y"
   ]
  },
  {
   "cell_type": "code",
   "execution_count": 54,
   "id": "bfc78ec0",
   "metadata": {},
   "outputs": [],
   "source": [
    "#Removing the redGoldDiff variable as it is a duplicate with blueGoldDiff\n",
    "df_EliteTest = df_EliteTest.drop('redGoldDiff', axis=1)\n",
    "df_AverageTest = df_AverageTest.drop('redGoldDiff', axis=1)\n",
    "df_SkilledTest = df_SkilledTest.drop('redGoldDiff', axis=1)\n",
    "#Splitting the testing data\n",
    "xTest_EliteTest,yTest_EliteTest = splittingDataTesting(df_EliteTest)\n",
    "xTest_AverageTest,yTest_AverageTest = splittingDataTesting(df_AverageTest)\n",
    "xTest_SkilledTest,yTest_SkilledTest = splittingDataTesting(df_SkilledTest)"
   ]
  },
  {
   "cell_type": "markdown",
   "id": "3df84465",
   "metadata": {},
   "source": [
    "### Coefficients"
   ]
  },
  {
   "cell_type": "code",
   "execution_count": 55,
   "id": "91fbcdbb",
   "metadata": {},
   "outputs": [],
   "source": [
    "def coefficientsLr(model):\n",
    "    coefficients = np.hstack((model.intercept_,model.coef_[0]))\n",
    "    name = ['blueWardsPlaced','blueWardsDestroyed','blueKills','blueDeaths','blueAssists','blueEliteMonsters','blueDragons','blueHeraldsBarons','blueTowersDestroyed','blueTotalGold','blueTotalDamageToChampions','blueAvgLevel','blueTotalMinionsKilled','blueTotalJungleMinionsKilled','blueGoldDiff','redWardsPlaced','redWardsDestroyed','redKills','redDeaths','redAssists','redEliteMonsters','redDragons','redHeraldsBarons','redTowersDestroyed','redTotalGold','redTotalDamageToChampions','redAvgLevel','redTotalMinionsKilled','redTotalJungleMinionsKilled']\n",
    "    return name,coefficients"
   ]
  },
  {
   "cell_type": "markdown",
   "id": "5441784a",
   "metadata": {},
   "source": [
    "### Elite Data"
   ]
  },
  {
   "cell_type": "markdown",
   "id": "fd7037c4",
   "metadata": {},
   "source": [
    "#### Testing data"
   ]
  },
  {
   "cell_type": "code",
   "execution_count": 56,
   "id": "e8ef93dd",
   "metadata": {},
   "outputs": [
    {
     "name": "stdout",
     "output_type": "stream",
     "text": [
      "---------  -------  -------  -------  -------  -------  -------\n",
      "           fold 1   fold 2   fold 3   fold 4   fold 5   Average\n",
      "Accuracy   0.79630  0.78402  0.78112  0.77302  0.76954  0.78080\n",
      "Precision  0.80930  0.79172  0.78281  0.76297  0.77588  0.78453\n",
      "Recall     0.77956  0.77252  0.78815  0.77208  0.77237  0.77694\n",
      "F1 Score   0.79415  0.78200  0.78547  0.76750  0.77412  0.78065\n",
      "---------  -------  -------  -------  -------  -------  -------\n"
     ]
    }
   ],
   "source": [
    "#No regularization\n",
    "testingLr(trainedEliteLrNone,xTest_Elite,yTest_Elite)"
   ]
  },
  {
   "cell_type": "code",
   "execution_count": 57,
   "id": "e54edb55",
   "metadata": {},
   "outputs": [
    {
     "name": "stdout",
     "output_type": "stream",
     "text": [
      "---------  -------  -------  -------  -------  -------  -------\n",
      "           fold 1   fold 2   fold 3   fold 4   fold 5   Average\n",
      "Accuracy   0.79572  0.78344  0.78112  0.77302  0.76896  0.78045\n",
      "Precision  0.80907  0.79147  0.78281  0.76359  0.77500  0.78439\n",
      "Recall     0.77842  0.77136  0.78815  0.77088  0.77237  0.77624\n",
      "F1 Score   0.79345  0.78129  0.78547  0.76722  0.77368  0.78022\n",
      "---------  -------  -------  -------  -------  -------  -------\n"
     ]
    }
   ],
   "source": [
    "#L1 regularization\n",
    "testingLr(trainedEliteLrL1,xTest_Elite,yTest_Elite)"
   ]
  },
  {
   "cell_type": "code",
   "execution_count": 58,
   "id": "29284d48",
   "metadata": {},
   "outputs": [
    {
     "name": "stdout",
     "output_type": "stream",
     "text": [
      "---------  -------  -------  -------  -------  -------  -------\n",
      "           fold 1   fold 2   fold 3   fold 4   fold 5   Average\n",
      "Accuracy   0.79630  0.78402  0.78112  0.77360  0.76954  0.78092\n",
      "Precision  0.80930  0.79172  0.78281  0.76387  0.77588  0.78471\n",
      "Recall     0.77956  0.77252  0.78815  0.77208  0.77237  0.77694\n",
      "F1 Score   0.79415  0.78200  0.78547  0.76795  0.77412  0.78074\n",
      "---------  -------  -------  -------  -------  -------  -------\n"
     ]
    }
   ],
   "source": [
    "#L2 regularization\n",
    "testingLr(trainedEliteLrL2,xTest_Elite,yTest_Elite)"
   ]
  },
  {
   "cell_type": "markdown",
   "id": "ecc2b6f9",
   "metadata": {},
   "source": [
    "#### Training data"
   ]
  },
  {
   "cell_type": "code",
   "execution_count": 59,
   "id": "c23469f4",
   "metadata": {},
   "outputs": [
    {
     "name": "stdout",
     "output_type": "stream",
     "text": [
      "---------  -------  -------  -------  -------  -------  -------\n",
      "           fold 1   fold 2   fold 3   fold 4   fold 5   Average\n",
      "Accuracy   0.77721  0.78000  0.78318  0.78231  0.78463  0.78147\n",
      "Precision  0.78076  0.78376  0.78672  0.78699  0.78720  0.78508\n",
      "Recall     0.77287  0.77608  0.77762  0.78159  0.77990  0.77761\n",
      "F1 Score   0.77679  0.77990  0.78214  0.78428  0.78353  0.78133\n",
      "---------  -------  -------  -------  -------  -------  -------\n"
     ]
    }
   ],
   "source": [
    "#No regularization\n",
    "testingLr(trainedEliteLrNone,xTrain_Elite,yTrain_Elite)"
   ]
  },
  {
   "cell_type": "code",
   "execution_count": 60,
   "id": "b3b38d5d",
   "metadata": {},
   "outputs": [
    {
     "name": "stdout",
     "output_type": "stream",
     "text": [
      "---------  -------  -------  -------  -------  -------  -------\n",
      "           fold 1   fold 2   fold 3   fold 4   fold 5   Average\n",
      "Accuracy   0.77736  0.78043  0.78391  0.78260  0.78448  0.78176\n",
      "Precision  0.78115  0.78411  0.78736  0.78728  0.78713  0.78541\n",
      "Recall     0.77258  0.77666  0.77848  0.78188  0.77961  0.77784\n",
      "F1 Score   0.77684  0.78037  0.78290  0.78457  0.78336  0.78161\n",
      "---------  -------  -------  -------  -------  -------  -------\n"
     ]
    }
   ],
   "source": [
    "#L1 regularization\n",
    "testingLr(trainedEliteLrL1,xTrain_Elite,yTrain_Elite)"
   ]
  },
  {
   "cell_type": "code",
   "execution_count": 61,
   "id": "9a88cb4f",
   "metadata": {},
   "outputs": [
    {
     "name": "stdout",
     "output_type": "stream",
     "text": [
      "---------  -------  -------  -------  -------  -------  -------\n",
      "           fold 1   fold 2   fold 3   fold 4   fold 5   Average\n",
      "Accuracy   0.77707  0.78014  0.78362  0.78231  0.78477  0.78158\n",
      "Precision  0.78069  0.78382  0.78724  0.78699  0.78709  0.78517\n",
      "Recall     0.77258  0.77637  0.77791  0.78159  0.78048  0.77779\n",
      "F1 Score   0.77662  0.78008  0.78255  0.78428  0.78377  0.78146\n",
      "---------  -------  -------  -------  -------  -------  -------\n"
     ]
    }
   ],
   "source": [
    "#L2 regularization\n",
    "testingLr(trainedEliteLrL2,xTrain_Elite,yTrain_Elite)"
   ]
  },
  {
   "cell_type": "markdown",
   "id": "93188b17",
   "metadata": {},
   "source": [
    "#### Coefficient"
   ]
  },
  {
   "cell_type": "code",
   "execution_count": 62,
   "id": "eccd969b",
   "metadata": {},
   "outputs": [
    {
     "name": "stdout",
     "output_type": "stream",
     "text": [
      "|    | variable                     |   coefficient |\n",
      "|---:|:-----------------------------|--------------:|\n",
      "| 25 | redTotalGold                 |   -0.197617   |\n",
      "| 22 | redDragons                   |   -0.155888   |\n",
      "| 27 | redAvgLevel                  |   -0.148006   |\n",
      "| 28 | redTotalMinionsKilled        |   -0.0876467  |\n",
      "| 26 | redTotalDamageToChampions    |   -0.0456926  |\n",
      "| 21 | redEliteMonsters             |   -0.0361148  |\n",
      "| 18 | redKills                     |   -0.0100832  |\n",
      "|  4 | blueDeaths                   |   -0.0100832  |\n",
      "| 16 | redWardsPlaced               |   -0.00108886 |\n",
      "| 20 | redAssists                   |   -0.00107835 |\n",
      "|  1 | blueWardsPlaced              |    0          |\n",
      "| 23 | redHeraldsBarons             |    0          |\n",
      "|  8 | blueHeraldsBarons            |    0          |\n",
      "| 10 | blueTotalGold                |    0          |\n",
      "| 13 | blueTotalMinionsKilled       |    0.00850454 |\n",
      "|  6 | blueEliteMonsters            |    0.01411    |\n",
      "| 29 | redTotalJungleMinionsKilled  |    0.0161431  |\n",
      "|  9 | blueTowersDestroyed          |    0.0209479  |\n",
      "| 17 | redWardsDestroyed            |    0.0261524  |\n",
      "|  0 | Intercept                    |    0.0308145  |\n",
      "| 24 | redTowersDestroyed           |    0.0313661  |\n",
      "|  2 | blueWardsDestroyed           |    0.0553228  |\n",
      "| 11 | blueTotalDamageToChampions   |    0.068233   |\n",
      "|  5 | blueAssists                  |    0.0690696  |\n",
      "|  3 | blueKills                    |    0.0742314  |\n",
      "| 19 | redDeaths                    |    0.0742314  |\n",
      "|  7 | blueDragons                  |    0.101765   |\n",
      "| 14 | blueTotalJungleMinionsKilled |    0.102161   |\n",
      "| 12 | blueAvgLevel                 |    0.248186   |\n",
      "| 15 | blueGoldDiff                 |    1.2991     |\n"
     ]
    }
   ],
   "source": [
    "#Take fold 5 as L1 regularization has highest accuracy\n",
    "#L1 regularization\n",
    "name,coef = coefficientsLr(trainedEliteLrL1[4])\n",
    "df = pd.DataFrame(data={'variable': ['Intercept'] + name, 'coefficient': coef})\n",
    "df = df.sort_values(by='coefficient')\n",
    "print(df.to_markdown())"
   ]
  },
  {
   "cell_type": "markdown",
   "id": "28c76dd6",
   "metadata": {},
   "source": [
    "### Skilled Data"
   ]
  },
  {
   "cell_type": "markdown",
   "id": "c51434f3",
   "metadata": {},
   "source": [
    "#### Testing data"
   ]
  },
  {
   "cell_type": "code",
   "execution_count": 63,
   "id": "817ea1ea",
   "metadata": {},
   "outputs": [
    {
     "name": "stdout",
     "output_type": "stream",
     "text": [
      "---------  -------  -------  -------  -------  -------  -------\n",
      "           fold 1   fold 2   fold 3   fold 4   fold 5   Average\n",
      "Accuracy   0.76278  0.75969  0.76674  0.75479  0.76184  0.76117\n",
      "Precision  0.75632  0.75795  0.77317  0.75701  0.74989  0.75887\n",
      "Recall     0.76344  0.75963  0.75930  0.74389  0.76718  0.75869\n",
      "F1 Score   0.75987  0.75879  0.76617  0.75039  0.75844  0.75873\n",
      "---------  -------  -------  -------  -------  -------  -------\n"
     ]
    }
   ],
   "source": [
    "#No regularization\n",
    "testingLr(trainedSkilledLrNone,xTest_Skilled,yTest_Skilled)"
   ]
  },
  {
   "cell_type": "code",
   "execution_count": 64,
   "id": "d7b4743f",
   "metadata": {},
   "outputs": [
    {
     "name": "stdout",
     "output_type": "stream",
     "text": [
      "---------  -------  -------  -------  -------  -------  -------\n",
      "           fold 1   fold 2   fold 3   fold 4   fold 5   Average\n",
      "Accuracy   0.76256  0.75925  0.76652  0.75435  0.76162  0.76086\n",
      "Precision  0.75599  0.75774  0.77307  0.75633  0.74956  0.75854\n",
      "Recall     0.76344  0.75874  0.75886  0.74389  0.76718  0.75842\n",
      "F1 Score   0.75970  0.75824  0.76590  0.75006  0.75827  0.75843\n",
      "---------  -------  -------  -------  -------  -------  -------\n"
     ]
    }
   ],
   "source": [
    "#L1 regularization\n",
    "testingLr(trainedSkilledLrL1,xTest_Skilled,yTest_Skilled)"
   ]
  },
  {
   "cell_type": "code",
   "execution_count": 65,
   "id": "e1e53818",
   "metadata": {},
   "outputs": [
    {
     "name": "stdout",
     "output_type": "stream",
     "text": [
      "---------  -------  -------  -------  -------  -------  -------\n",
      "           fold 1   fold 2   fold 3   fold 4   fold 5   Average\n",
      "Accuracy   0.76278  0.75969  0.76652  0.75479  0.76206  0.76117\n",
      "Precision  0.75632  0.75795  0.77283  0.75701  0.75022  0.75887\n",
      "Recall     0.76344  0.75963  0.75930  0.74389  0.76718  0.75869\n",
      "F1 Score   0.75987  0.75879  0.76600  0.75039  0.75861  0.75873\n",
      "---------  -------  -------  -------  -------  -------  -------\n"
     ]
    }
   ],
   "source": [
    "#L2 regularization\n",
    "testingLr(trainedSkilledLrL2,xTest_Skilled,yTest_Skilled)"
   ]
  },
  {
   "cell_type": "markdown",
   "id": "b660e97e",
   "metadata": {},
   "source": [
    "#### Training data"
   ]
  },
  {
   "cell_type": "code",
   "execution_count": 66,
   "id": "31e16f73",
   "metadata": {},
   "outputs": [
    {
     "name": "stdout",
     "output_type": "stream",
     "text": [
      "---------  -------  -------  -------  -------  -------  -------\n",
      "           fold 1   fold 2   fold 3   fold 4   fold 5   Average\n",
      "Accuracy   0.76187  0.76291  0.75989  0.76381  0.76034  0.76176\n",
      "Precision  0.75985  0.76074  0.75757  0.76149  0.75947  0.75983\n",
      "Recall     0.76002  0.75930  0.75436  0.76124  0.75778  0.75854\n",
      "F1 Score   0.75994  0.76002  0.75596  0.76136  0.75862  0.75918\n",
      "---------  -------  -------  -------  -------  -------  -------\n"
     ]
    }
   ],
   "source": [
    "#No regularization\n",
    "testingLr(trainedSkilledLrNone,xTrain_Skilled,yTrain_Skilled)"
   ]
  },
  {
   "cell_type": "code",
   "execution_count": 67,
   "id": "d013808f",
   "metadata": {},
   "outputs": [
    {
     "name": "stdout",
     "output_type": "stream",
     "text": [
      "---------  -------  -------  -------  -------  -------  -------\n",
      "           fold 1   fold 2   fold 3   fold 4   fold 5   Average\n",
      "Accuracy   0.76181  0.76291  0.75994  0.76392  0.76056  0.76183\n",
      "Precision  0.75977  0.76068  0.75754  0.76149  0.75952  0.75980\n",
      "Recall     0.76002  0.75941  0.75458  0.76157  0.75834  0.75878\n",
      "F1 Score   0.75990  0.76005  0.75606  0.76153  0.75893  0.75929\n",
      "---------  -------  -------  -------  -------  -------  -------\n"
     ]
    }
   ],
   "source": [
    "#L1 regularization\n",
    "testingLr(trainedSkilledLrL1,xTrain_Skilled,yTrain_Skilled)"
   ]
  },
  {
   "cell_type": "code",
   "execution_count": 68,
   "id": "b56bba3d",
   "metadata": {},
   "outputs": [
    {
     "name": "stdout",
     "output_type": "stream",
     "text": [
      "---------  -------  -------  -------  -------  -------  -------\n",
      "           fold 1   fold 2   fold 3   fold 4   fold 5   Average\n",
      "Accuracy   0.76192  0.76302  0.75989  0.76381  0.76028  0.76179\n",
      "Precision  0.75988  0.76091  0.75757  0.76149  0.75938  0.75985\n",
      "Recall     0.76013  0.75930  0.75436  0.76124  0.75778  0.75856\n",
      "F1 Score   0.76001  0.76010  0.75596  0.76136  0.75858  0.75920\n",
      "---------  -------  -------  -------  -------  -------  -------\n"
     ]
    }
   ],
   "source": [
    "#L2 regularization\n",
    "testingLr(trainedSkilledLrL2,xTrain_Skilled,yTrain_Skilled)"
   ]
  },
  {
   "cell_type": "markdown",
   "id": "e707854c",
   "metadata": {},
   "source": [
    "#### Coefficients"
   ]
  },
  {
   "cell_type": "code",
   "execution_count": 69,
   "id": "7ee74f63",
   "metadata": {},
   "outputs": [
    {
     "name": "stdout",
     "output_type": "stream",
     "text": [
      "|    | variable                     |   coefficient |\n",
      "|---:|:-----------------------------|--------------:|\n",
      "| 25 | redTotalGold                 |   -0.234657   |\n",
      "| 27 | redAvgLevel                  |   -0.174537   |\n",
      "| 26 | redTotalDamageToChampions    |   -0.141368   |\n",
      "| 22 | redDragons                   |   -0.088841   |\n",
      "| 29 | redTotalJungleMinionsKilled  |   -0.0637724  |\n",
      "| 21 | redEliteMonsters             |   -0.0522109  |\n",
      "| 17 | redWardsDestroyed            |   -0.0288642  |\n",
      "|  0 | Intercept                    |   -0.0241041  |\n",
      "| 20 | redAssists                   |   -0.0185315  |\n",
      "|  9 | blueTowersDestroyed          |   -0.0115989  |\n",
      "| 16 | redWardsPlaced               |   -0.0078935  |\n",
      "| 28 | redTotalMinionsKilled        |   -0.0015063  |\n",
      "|  8 | blueHeraldsBarons            |    0          |\n",
      "| 10 | blueTotalGold                |    0          |\n",
      "| 23 | redHeraldsBarons             |    0          |\n",
      "|  1 | blueWardsPlaced              |    0.00140638 |\n",
      "|  4 | blueDeaths                   |    0.0147095  |\n",
      "| 18 | redKills                     |    0.0147095  |\n",
      "|  2 | blueWardsDestroyed           |    0.0224106  |\n",
      "| 24 | redTowersDestroyed           |    0.0371985  |\n",
      "|  6 | blueEliteMonsters            |    0.0419101  |\n",
      "| 13 | blueTotalMinionsKilled       |    0.0540114  |\n",
      "| 14 | blueTotalJungleMinionsKilled |    0.0601868  |\n",
      "|  5 | blueAssists                  |    0.0602401  |\n",
      "| 19 | redDeaths                    |    0.0643474  |\n",
      "|  3 | blueKills                    |    0.0643474  |\n",
      "| 11 | blueTotalDamageToChampions   |    0.101496   |\n",
      "|  7 | blueDragons                  |    0.16627    |\n",
      "| 12 | blueAvgLevel                 |    0.196519   |\n",
      "| 15 | blueGoldDiff                 |    0.983184   |\n"
     ]
    }
   ],
   "source": [
    "#Take fold 2 as L1 regularization has highest accuracy\n",
    "#L1 regularization\n",
    "name,coef = coefficientsLr(trainedSkilledLrL1[1])\n",
    "df = pd.DataFrame(data={'variable': ['Intercept'] + name, 'coefficient': coef})\n",
    "df = df.sort_values(by='coefficient')\n",
    "print(df.to_markdown())"
   ]
  },
  {
   "cell_type": "markdown",
   "id": "45158e08",
   "metadata": {},
   "source": [
    "### Average Data"
   ]
  },
  {
   "cell_type": "markdown",
   "id": "e7795288",
   "metadata": {},
   "source": [
    "#### Testing data"
   ]
  },
  {
   "cell_type": "code",
   "execution_count": 70,
   "id": "40a37921",
   "metadata": {},
   "outputs": [
    {
     "name": "stdout",
     "output_type": "stream",
     "text": [
      "---------  -------  -------  -------  -------  -------  -------\n",
      "           fold 1   fold 2   fold 3   fold 4   fold 5   Average\n",
      "Accuracy   0.75908  0.76264  0.76006  0.76289  0.76761  0.76246\n",
      "Precision  0.76412  0.76235  0.75999  0.76141  0.77412  0.76440\n",
      "Recall     0.75739  0.77014  0.76256  0.76615  0.76100  0.76345\n",
      "F1 Score   0.76074  0.76622  0.76127  0.76377  0.76750  0.76390\n",
      "---------  -------  -------  -------  -------  -------  -------\n"
     ]
    }
   ],
   "source": [
    "#No regularization\n",
    "testingLr(trainedAverageLrNone,xTest_Average,yTest_Average)"
   ]
  },
  {
   "cell_type": "code",
   "execution_count": 71,
   "id": "285aa630",
   "metadata": {},
   "outputs": [
    {
     "name": "stdout",
     "output_type": "stream",
     "text": [
      "---------  -------  -------  -------  -------  -------  -------\n",
      "           fold 1   fold 2   fold 3   fold 4   fold 5   Average\n",
      "Accuracy   0.75908  0.76273  0.76006  0.76271  0.76770  0.76246\n",
      "Precision  0.76412  0.76248  0.75999  0.76114  0.77416  0.76438\n",
      "Recall     0.75739  0.77014  0.76256  0.76615  0.76117  0.76348\n",
      "F1 Score   0.76074  0.76629  0.76127  0.76364  0.76761  0.76391\n",
      "---------  -------  -------  -------  -------  -------  -------\n"
     ]
    }
   ],
   "source": [
    "#L1 regularization\n",
    "testingLr(trainedAverageLrL1,xTest_Average,yTest_Average)"
   ]
  },
  {
   "cell_type": "code",
   "execution_count": 72,
   "id": "e777c86d",
   "metadata": {},
   "outputs": [
    {
     "name": "stdout",
     "output_type": "stream",
     "text": [
      "---------  -------  -------  -------  -------  -------  -------\n",
      "           fold 1   fold 2   fold 3   fold 4   fold 5   Average\n",
      "Accuracy   0.75908  0.76255  0.76015  0.76289  0.76779  0.76249\n",
      "Precision  0.76412  0.76221  0.76004  0.76141  0.77421  0.76440\n",
      "Recall     0.75739  0.77014  0.76273  0.76615  0.76135  0.76355\n",
      "F1 Score   0.76074  0.76616  0.76138  0.76377  0.76772  0.76396\n",
      "---------  -------  -------  -------  -------  -------  -------\n"
     ]
    }
   ],
   "source": [
    "#L2 regularization\n",
    "testingLr(trainedAverageLrL2,xTest_Average,yTest_Average)"
   ]
  },
  {
   "cell_type": "markdown",
   "id": "a08a7aa0",
   "metadata": {},
   "source": [
    "#### Training data"
   ]
  },
  {
   "cell_type": "code",
   "execution_count": 73,
   "id": "0cc6b3a4",
   "metadata": {},
   "outputs": [
    {
     "name": "stdout",
     "output_type": "stream",
     "text": [
      "---------  -------  -------  -------  -------  -------  -------\n",
      "           fold 1   fold 2   fold 3   fold 4   fold 5   Average\n",
      "Accuracy   0.76417  0.76259  0.76301  0.76275  0.76184  0.76287\n",
      "Precision  0.76567  0.76435  0.76476  0.76477  0.76342  0.76459\n",
      "Recall     0.76510  0.76327  0.76486  0.76454  0.76321  0.76419\n",
      "F1 Score   0.76538  0.76381  0.76481  0.76466  0.76332  0.76439\n",
      "---------  -------  -------  -------  -------  -------  -------\n"
     ]
    }
   ],
   "source": [
    "#No regularization\n",
    "testingLr(trainedAverageLrNone,xTrain_Average,yTrain_Average)"
   ]
  },
  {
   "cell_type": "code",
   "execution_count": 74,
   "id": "0a7ca601",
   "metadata": {},
   "outputs": [
    {
     "name": "stdout",
     "output_type": "stream",
     "text": [
      "---------  -------  -------  -------  -------  -------  -------\n",
      "           fold 1   fold 2   fold 3   fold 4   fold 5   Average\n",
      "Accuracy   0.76412  0.76254  0.76308  0.76266  0.76190  0.76286\n",
      "Precision  0.76563  0.76428  0.76483  0.76469  0.76352  0.76459\n",
      "Recall     0.76505  0.76327  0.76490  0.76445  0.76321  0.76418\n",
      "F1 Score   0.76534  0.76377  0.76487  0.76457  0.76337  0.76438\n",
      "---------  -------  -------  -------  -------  -------  -------\n"
     ]
    }
   ],
   "source": [
    "#L1 regularization\n",
    "testingLr(trainedAverageLrL1,xTrain_Average,yTrain_Average)"
   ]
  },
  {
   "cell_type": "code",
   "execution_count": 75,
   "id": "c7b006cf",
   "metadata": {},
   "outputs": [
    {
     "name": "stdout",
     "output_type": "stream",
     "text": [
      "---------  -------  -------  -------  -------  -------  -------\n",
      "           fold 1   fold 2   fold 3   fold 4   fold 5   Average\n",
      "Accuracy   0.76421  0.76257  0.76303  0.76277  0.76186  0.76289\n",
      "Precision  0.76572  0.76429  0.76479  0.76478  0.76343  0.76460\n",
      "Recall     0.76514  0.76331  0.76486  0.76458  0.76326  0.76423\n",
      "F1 Score   0.76543  0.76380  0.76482  0.76468  0.76334  0.76442\n",
      "---------  -------  -------  -------  -------  -------  -------\n"
     ]
    }
   ],
   "source": [
    "#L2 regularization\n",
    "testingLr(trainedAverageLrL2,xTrain_Average,yTrain_Average)"
   ]
  },
  {
   "cell_type": "markdown",
   "id": "436dd734",
   "metadata": {},
   "source": [
    "#### Coefficients"
   ]
  },
  {
   "cell_type": "code",
   "execution_count": 76,
   "id": "38250ef6",
   "metadata": {},
   "outputs": [
    {
     "name": "stdout",
     "output_type": "stream",
     "text": [
      "|    | variable                     |   coefficient |\n",
      "|---:|:-----------------------------|--------------:|\n",
      "| 22 | redDragons                   |  -0.152529    |\n",
      "| 26 | redTotalDamageToChampions    |  -0.111351    |\n",
      "| 27 | redAvgLevel                  |  -0.110439    |\n",
      "| 28 | redTotalMinionsKilled        |  -0.0912376   |\n",
      "|  9 | blueTowersDestroyed          |  -0.0572496   |\n",
      "| 21 | redEliteMonsters             |  -0.0569013   |\n",
      "| 18 | redKills                     |  -0.0446383   |\n",
      "|  4 | blueDeaths                   |  -0.0446383   |\n",
      "|  5 | blueAssists                  |  -0.0349912   |\n",
      "| 29 | redTotalJungleMinionsKilled  |  -0.033057    |\n",
      "|  2 | blueWardsDestroyed           |  -0.00762686  |\n",
      "| 16 | redWardsPlaced               |  -0.000267576 |\n",
      "| 25 | redTotalGold                 |   0           |\n",
      "| 23 | redHeraldsBarons             |   0           |\n",
      "|  8 | blueHeraldsBarons            |   0           |\n",
      "|  1 | blueWardsPlaced              |   0.00131076  |\n",
      "| 17 | redWardsDestroyed            |   0.011831    |\n",
      "| 19 | redDeaths                    |   0.0139552   |\n",
      "|  3 | blueKills                    |   0.0139552   |\n",
      "| 10 | blueTotalGold                |   0.0153723   |\n",
      "|  6 | blueEliteMonsters            |   0.0238736   |\n",
      "|  0 | Intercept                    |   0.0290489   |\n",
      "| 14 | blueTotalJungleMinionsKilled |   0.0478285   |\n",
      "| 20 | redAssists                   |   0.0502625   |\n",
      "| 13 | blueTotalMinionsKilled       |   0.0628138   |\n",
      "| 24 | redTowersDestroyed           |   0.0705445   |\n",
      "| 11 | blueTotalDamageToChampions   |   0.115071    |\n",
      "| 12 | blueAvgLevel                 |   0.115448    |\n",
      "|  7 | blueDragons                  |   0.187271    |\n",
      "| 15 | blueGoldDiff                 |   1.32536     |\n"
     ]
    }
   ],
   "source": [
    "#Take fold 2 as L1 regularization has highest accuracy\n",
    "#L1 regularization\n",
    "name,coef = coefficientsLr(trainedAverageLrL1[1])\n",
    "df = pd.DataFrame(data={'variable': ['Intercept'] + name, 'coefficient': coef})\n",
    "df = df.sort_values(by='coefficient')\n",
    "print(df.to_markdown())"
   ]
  },
  {
   "cell_type": "markdown",
   "id": "ec7dad32",
   "metadata": {},
   "source": [
    "### Testing Data Logistic Regression"
   ]
  },
  {
   "cell_type": "code",
   "execution_count": 77,
   "id": "4686c226",
   "metadata": {},
   "outputs": [],
   "source": [
    "def testingTestData(lr,x_test,y_test):       \n",
    "    testEliteLr = lr.predict(x_test)\n",
    "    \n",
    "    accs= accuracy_score(y_test, testEliteLr)\n",
    "    pres= precision_score(y_test, testEliteLr)\n",
    "    res = recall_score(y_test, testEliteLr)\n",
    "    f1s = f1_score(y_test, testEliteLr)\n",
    "         \n",
    "    print('Accuracy: {:.5f}'.format(accs))\n",
    "    print('Precision {:.5f}'.format(pres))\n",
    "    print('Recall {:.5f}'.format(res))\n",
    "    print('F1 Score {:.5f}'.format(f1s))"
   ]
  },
  {
   "cell_type": "markdown",
   "id": "8466b564",
   "metadata": {},
   "source": [
    "#### Elite Data Testing"
   ]
  },
  {
   "cell_type": "code",
   "execution_count": 78,
   "id": "cad7b329",
   "metadata": {},
   "outputs": [
    {
     "name": "stdout",
     "output_type": "stream",
     "text": [
      "Accuracy: 0.79145\n",
      "Precision 0.79630\n",
      "Recall 0.79303\n",
      "F1 Score 0.79466\n"
     ]
    }
   ],
   "source": [
    "#Using Fold 4 L1 regularization model for Elite data set because it has highest Accuracy \n",
    "testingTestData(trainedEliteLrL1[3],xTest_EliteTest,yTest_EliteTest)"
   ]
  },
  {
   "cell_type": "code",
   "execution_count": 79,
   "id": "1c99e65c",
   "metadata": {},
   "outputs": [
    {
     "name": "stdout",
     "output_type": "stream",
     "text": [
      "|    | variable                     |   coefficient |\n",
      "|---:|:-----------------------------|--------------:|\n",
      "| 25 | redTotalGold                 |   -0.278067   |\n",
      "| 22 | redDragons                   |   -0.103444   |\n",
      "| 27 | redAvgLevel                  |   -0.103443   |\n",
      "| 26 | redTotalDamageToChampions    |   -0.0779063  |\n",
      "| 28 | redTotalMinionsKilled        |   -0.0485224  |\n",
      "| 29 | redTotalJungleMinionsKilled  |   -0.0333887  |\n",
      "| 18 | redKills                     |   -0.00792012 |\n",
      "|  4 | blueDeaths                   |   -0.00792012 |\n",
      "| 21 | redEliteMonsters             |   -0.00658194 |\n",
      "|  1 | blueWardsPlaced              |   -0.0043859  |\n",
      "| 23 | redHeraldsBarons             |    0          |\n",
      "|  8 | blueHeraldsBarons            |    0          |\n",
      "| 10 | blueTotalGold                |    0          |\n",
      "| 20 | redAssists                   |    0          |\n",
      "|  6 | blueEliteMonsters            |    0.00086629 |\n",
      "|  9 | blueTowersDestroyed          |    0.00412361 |\n",
      "| 16 | redWardsPlaced               |    0.0078159  |\n",
      "| 17 | redWardsDestroyed            |    0.0176673  |\n",
      "| 13 | blueTotalMinionsKilled       |    0.0191011  |\n",
      "|  0 | Intercept                    |    0.0400239  |\n",
      "|  5 | blueAssists                  |    0.057205   |\n",
      "| 24 | redTowersDestroyed           |    0.0589168  |\n",
      "|  2 | blueWardsDestroyed           |    0.0825522  |\n",
      "| 11 | blueTotalDamageToChampions   |    0.0859618  |\n",
      "| 14 | blueTotalJungleMinionsKilled |    0.0923768  |\n",
      "|  3 | blueKills                    |    0.130895   |\n",
      "| 19 | redDeaths                    |    0.130895   |\n",
      "|  7 | blueDragons                  |    0.179082   |\n",
      "| 12 | blueAvgLevel                 |    0.254237   |\n",
      "| 15 | blueGoldDiff                 |    1.15858    |\n"
     ]
    }
   ],
   "source": [
    "#Coefficients\n",
    "name,coef = coefficientsLr(trainedEliteLrL1[3])\n",
    "df = pd.DataFrame(data={'variable': ['Intercept'] + name, 'coefficient': coef})\n",
    "df = df.sort_values(by='coefficient')\n",
    "print(df.to_markdown())"
   ]
  },
  {
   "cell_type": "markdown",
   "id": "1bd64af8",
   "metadata": {},
   "source": [
    "#### Skilled Data Testing"
   ]
  },
  {
   "cell_type": "code",
   "execution_count": 80,
   "id": "0271811c",
   "metadata": {},
   "outputs": [
    {
     "name": "stdout",
     "output_type": "stream",
     "text": [
      "Accuracy: 0.74346\n",
      "Precision 0.77203\n",
      "Recall 0.70675\n",
      "F1 Score 0.73795\n"
     ]
    }
   ],
   "source": [
    "#Using Fold 3 L1 regularization model for Skilled data set because it has highest Accuracy \n",
    "testingTestData(trainedSkilledLrL1[2],xTest_SkilledTest,yTest_SkilledTest)"
   ]
  },
  {
   "cell_type": "code",
   "execution_count": 81,
   "id": "6d6bd88b",
   "metadata": {
    "scrolled": false
   },
   "outputs": [
    {
     "name": "stdout",
     "output_type": "stream",
     "text": [
      "|    | variable                     |   coefficient |\n",
      "|---:|:-----------------------------|--------------:|\n",
      "| 27 | redAvgLevel                  |   -0.22197    |\n",
      "| 26 | redTotalDamageToChampions    |   -0.16648    |\n",
      "| 25 | redTotalGold                 |   -0.164727   |\n",
      "| 22 | redDragons                   |   -0.093069   |\n",
      "|  9 | blueTowersDestroyed          |   -0.0436108  |\n",
      "|  0 | Intercept                    |   -0.0421096  |\n",
      "| 29 | redTotalJungleMinionsKilled  |   -0.041291   |\n",
      "| 20 | redAssists                   |   -0.0412462  |\n",
      "| 17 | redWardsDestroyed            |   -0.0407748  |\n",
      "| 21 | redEliteMonsters             |   -0.0404592  |\n",
      "| 16 | redWardsPlaced               |   -0.0188793  |\n",
      "|  8 | blueHeraldsBarons            |    0          |\n",
      "| 10 | blueTotalGold                |    0          |\n",
      "| 23 | redHeraldsBarons             |    0          |\n",
      "| 28 | redTotalMinionsKilled        |    0.00132803 |\n",
      "|  1 | blueWardsPlaced              |    0.00813174 |\n",
      "| 24 | redTowersDestroyed           |    0.00840798 |\n",
      "|  2 | blueWardsDestroyed           |    0.0219081  |\n",
      "| 18 | redKills                     |    0.0419116  |\n",
      "|  4 | blueDeaths                   |    0.0419116  |\n",
      "|  3 | blueKills                    |    0.043661   |\n",
      "| 19 | redDeaths                    |    0.043661   |\n",
      "|  5 | blueAssists                  |    0.0495764  |\n",
      "| 14 | blueTotalJungleMinionsKilled |    0.0632398  |\n",
      "|  6 | blueEliteMonsters            |    0.0671611  |\n",
      "| 13 | blueTotalMinionsKilled       |    0.0735122  |\n",
      "| 11 | blueTotalDamageToChampions   |    0.121504   |\n",
      "|  7 | blueDragons                  |    0.152609   |\n",
      "| 12 | blueAvgLevel                 |    0.171853   |\n",
      "| 15 | blueGoldDiff                 |    1.02101    |\n"
     ]
    }
   ],
   "source": [
    "#Coefficients\n",
    "name,coef = coefficientsLr(trainedSkilledLrL1[2])\n",
    "df = pd.DataFrame(data={'variable': ['Intercept'] + name, 'coefficient': coef})\n",
    "df = df.sort_values(by='coefficient')\n",
    "print(df.to_markdown())"
   ]
  },
  {
   "cell_type": "markdown",
   "id": "60b84544",
   "metadata": {},
   "source": [
    "#### Average Data Testing"
   ]
  },
  {
   "cell_type": "code",
   "execution_count": 82,
   "id": "7e52ed2b",
   "metadata": {},
   "outputs": [
    {
     "name": "stdout",
     "output_type": "stream",
     "text": [
      "Accuracy: 0.76907\n",
      "Precision 0.78167\n",
      "Recall 0.76737\n",
      "F1 Score 0.77446\n"
     ]
    }
   ],
   "source": [
    "#Using Fold 1 L1 regularization model for Avarage data set because it has highest Accuracy \n",
    "testingTestData(trainedAverageLrL1[0],xTest_AverageTest,yTest_AverageTest)"
   ]
  },
  {
   "cell_type": "code",
   "execution_count": 83,
   "id": "03ff99ef",
   "metadata": {
    "scrolled": false
   },
   "outputs": [
    {
     "name": "stdout",
     "output_type": "stream",
     "text": [
      "|    | variable                     |   coefficient |\n",
      "|---:|:-----------------------------|--------------:|\n",
      "| 22 | redDragons                   |   -0.137392   |\n",
      "| 26 | redTotalDamageToChampions    |   -0.112962   |\n",
      "| 27 | redAvgLevel                  |   -0.111554   |\n",
      "| 28 | redTotalMinionsKilled        |   -0.1046     |\n",
      "|  4 | blueDeaths                   |   -0.0620036  |\n",
      "| 18 | redKills                     |   -0.0620036  |\n",
      "| 21 | redEliteMonsters             |   -0.0590069  |\n",
      "|  5 | blueAssists                  |   -0.0574082  |\n",
      "| 29 | redTotalJungleMinionsKilled  |   -0.0379955  |\n",
      "|  9 | blueTowersDestroyed          |   -0.0286652  |\n",
      "| 16 | redWardsPlaced               |   -0.00201346 |\n",
      "| 25 | redTotalGold                 |    0          |\n",
      "| 23 | redHeraldsBarons             |    0          |\n",
      "|  8 | blueHeraldsBarons            |    0          |\n",
      "|  1 | blueWardsPlaced              |    0.00108526 |\n",
      "| 17 | redWardsDestroyed            |    0.00319905 |\n",
      "|  2 | blueWardsDestroyed           |    0.00613597 |\n",
      "|  6 | blueEliteMonsters            |    0.00653702 |\n",
      "|  3 | blueKills                    |    0.0206175  |\n",
      "| 19 | redDeaths                    |    0.0206175  |\n",
      "|  0 | Intercept                    |    0.0228806  |\n",
      "| 10 | blueTotalGold                |    0.0304708  |\n",
      "| 14 | blueTotalJungleMinionsKilled |    0.0430266  |\n",
      "| 24 | redTowersDestroyed           |    0.0549988  |\n",
      "| 20 | redAssists                   |    0.0592052  |\n",
      "| 13 | blueTotalMinionsKilled       |    0.0649614  |\n",
      "| 12 | blueAvgLevel                 |    0.0977054  |\n",
      "| 11 | blueTotalDamageToChampions   |    0.149461   |\n",
      "|  7 | blueDragons                  |    0.214087   |\n",
      "| 15 | blueGoldDiff                 |    1.27306    |\n"
     ]
    }
   ],
   "source": [
    "#Coefficients\n",
    "name,coef = coefficientsLr(trainedAverageLrL1[0])\n",
    "df = pd.DataFrame(data={'variable': ['Intercept'] + name, 'coefficient': coef})\n",
    "df = df.sort_values(by='coefficient')\n",
    "print(df.to_markdown())"
   ]
  },
  {
   "cell_type": "code",
   "execution_count": null,
   "id": "65ea5f89",
   "metadata": {},
   "outputs": [],
   "source": []
  }
 ],
 "metadata": {
  "kernelspec": {
   "display_name": "Python 3 (ipykernel)",
   "language": "python",
   "name": "python3"
  },
  "language_info": {
   "codemirror_mode": {
    "name": "ipython",
    "version": 3
   },
   "file_extension": ".py",
   "mimetype": "text/x-python",
   "name": "python",
   "nbconvert_exporter": "python",
   "pygments_lexer": "ipython3",
   "version": "3.9.12"
  }
 },
 "nbformat": 4,
 "nbformat_minor": 5
}

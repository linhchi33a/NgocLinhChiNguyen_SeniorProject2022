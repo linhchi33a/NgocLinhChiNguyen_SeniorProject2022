{
 "cells": [
  {
   "cell_type": "code",
   "execution_count": 1,
   "id": "b128d5f9",
   "metadata": {},
   "outputs": [],
   "source": [
    "import numpy as np\n",
    "import pandas as pd\n",
    "import matplotlib.pyplot as plt\n",
    "#import tensorflow as tf\n",
    "#import seaborn as sns\n",
    "\n",
    "from sklearn.model_selection import train_test_split\n",
    "from sklearn.preprocessing import StandardScaler\n",
    "from sklearn.linear_model import LogisticRegression\n",
    "from sklearn.metrics import recall_score, precision_score, f1_score, accuracy_score\n",
    "from sklearn.model_selection import KFold\n",
    "from tabulate import tabulate"
   ]
  },
  {
   "cell_type": "markdown",
   "id": "eb5ed03b",
   "metadata": {},
   "source": [
    "### Import Data"
   ]
  },
  {
   "cell_type": "code",
   "execution_count": 2,
   "id": "3194bc2a",
   "metadata": {},
   "outputs": [],
   "source": [
    "df_Average = pd.read_excel(r'C:\\Users\\linhc\\OneDrive\\Documents\\Sproj\\DataCollection\\Importantfiles\\TrainingValData\\AverageTrainingVal.xlsx')\n",
    "df_Skilled = pd.read_excel(r'C:\\Users\\linhc\\OneDrive\\Documents\\Sproj\\DataCollection\\Importantfiles\\TrainingValData\\SkilledTrainingVal.xlsx')\n",
    "df_Elite = pd.read_excel(r'C:\\Users\\linhc\\OneDrive\\Documents\\Sproj\\DataCollection\\Importantfiles\\TrainingValData\\EliteTrainingVal.xlsx')"
   ]
  },
  {
   "cell_type": "code",
   "execution_count": 3,
   "id": "79f5b75f",
   "metadata": {
    "scrolled": true
   },
   "outputs": [
    {
     "data": {
      "text/html": [
       "<div>\n",
       "<style scoped>\n",
       "    .dataframe tbody tr th:only-of-type {\n",
       "        vertical-align: middle;\n",
       "    }\n",
       "\n",
       "    .dataframe tbody tr th {\n",
       "        vertical-align: top;\n",
       "    }\n",
       "\n",
       "    .dataframe thead th {\n",
       "        text-align: right;\n",
       "    }\n",
       "</style>\n",
       "<table border=\"1\" class=\"dataframe\">\n",
       "  <thead>\n",
       "    <tr style=\"text-align: right;\">\n",
       "      <th></th>\n",
       "      <th>blueWins</th>\n",
       "      <th>blueWardsPlaced</th>\n",
       "      <th>blueWardsDestroyed</th>\n",
       "      <th>blueKills</th>\n",
       "      <th>blueDeaths</th>\n",
       "      <th>blueAssists</th>\n",
       "      <th>blueEliteMonsters</th>\n",
       "      <th>blueDragons</th>\n",
       "      <th>blueHeraldsBarons</th>\n",
       "      <th>blueTowersDestroyed</th>\n",
       "      <th>...</th>\n",
       "      <th>redEliteMonsters</th>\n",
       "      <th>redDragons</th>\n",
       "      <th>redHeraldsBarons</th>\n",
       "      <th>redTowersDestroyed</th>\n",
       "      <th>redTotalGold</th>\n",
       "      <th>redTotalDamageToChampions</th>\n",
       "      <th>redAvgLevel</th>\n",
       "      <th>redTotalMinionsKilled</th>\n",
       "      <th>redTotalJungleMinionsKilled</th>\n",
       "      <th>redGoldDiff</th>\n",
       "    </tr>\n",
       "  </thead>\n",
       "  <tbody>\n",
       "    <tr>\n",
       "      <th>0</th>\n",
       "      <td>0</td>\n",
       "      <td>32</td>\n",
       "      <td>5</td>\n",
       "      <td>10</td>\n",
       "      <td>15</td>\n",
       "      <td>15</td>\n",
       "      <td>0</td>\n",
       "      <td>0</td>\n",
       "      <td>0</td>\n",
       "      <td>1</td>\n",
       "      <td>...</td>\n",
       "      <td>2</td>\n",
       "      <td>2</td>\n",
       "      <td>0</td>\n",
       "      <td>1</td>\n",
       "      <td>26016</td>\n",
       "      <td>22836</td>\n",
       "      <td>8.4</td>\n",
       "      <td>279</td>\n",
       "      <td>69</td>\n",
       "      <td>1063</td>\n",
       "    </tr>\n",
       "    <tr>\n",
       "      <th>1</th>\n",
       "      <td>1</td>\n",
       "      <td>49</td>\n",
       "      <td>6</td>\n",
       "      <td>10</td>\n",
       "      <td>14</td>\n",
       "      <td>6</td>\n",
       "      <td>1</td>\n",
       "      <td>1</td>\n",
       "      <td>0</td>\n",
       "      <td>0</td>\n",
       "      <td>...</td>\n",
       "      <td>0</td>\n",
       "      <td>0</td>\n",
       "      <td>0</td>\n",
       "      <td>1</td>\n",
       "      <td>25835</td>\n",
       "      <td>20998</td>\n",
       "      <td>8.6</td>\n",
       "      <td>301</td>\n",
       "      <td>77</td>\n",
       "      <td>3740</td>\n",
       "    </tr>\n",
       "    <tr>\n",
       "      <th>2</th>\n",
       "      <td>1</td>\n",
       "      <td>26</td>\n",
       "      <td>2</td>\n",
       "      <td>17</td>\n",
       "      <td>10</td>\n",
       "      <td>24</td>\n",
       "      <td>2</td>\n",
       "      <td>1</td>\n",
       "      <td>1</td>\n",
       "      <td>0</td>\n",
       "      <td>...</td>\n",
       "      <td>0</td>\n",
       "      <td>0</td>\n",
       "      <td>0</td>\n",
       "      <td>1</td>\n",
       "      <td>23499</td>\n",
       "      <td>25089</td>\n",
       "      <td>8.6</td>\n",
       "      <td>268</td>\n",
       "      <td>80</td>\n",
       "      <td>-5804</td>\n",
       "    </tr>\n",
       "    <tr>\n",
       "      <th>3</th>\n",
       "      <td>1</td>\n",
       "      <td>106</td>\n",
       "      <td>8</td>\n",
       "      <td>10</td>\n",
       "      <td>8</td>\n",
       "      <td>18</td>\n",
       "      <td>2</td>\n",
       "      <td>1</td>\n",
       "      <td>1</td>\n",
       "      <td>0</td>\n",
       "      <td>...</td>\n",
       "      <td>1</td>\n",
       "      <td>1</td>\n",
       "      <td>0</td>\n",
       "      <td>0</td>\n",
       "      <td>21625</td>\n",
       "      <td>21831</td>\n",
       "      <td>8.4</td>\n",
       "      <td>297</td>\n",
       "      <td>76</td>\n",
       "      <td>-2583</td>\n",
       "    </tr>\n",
       "    <tr>\n",
       "      <th>4</th>\n",
       "      <td>1</td>\n",
       "      <td>31</td>\n",
       "      <td>10</td>\n",
       "      <td>22</td>\n",
       "      <td>7</td>\n",
       "      <td>24</td>\n",
       "      <td>3</td>\n",
       "      <td>2</td>\n",
       "      <td>1</td>\n",
       "      <td>2</td>\n",
       "      <td>...</td>\n",
       "      <td>0</td>\n",
       "      <td>0</td>\n",
       "      <td>0</td>\n",
       "      <td>0</td>\n",
       "      <td>21954</td>\n",
       "      <td>19995</td>\n",
       "      <td>8.4</td>\n",
       "      <td>293</td>\n",
       "      <td>79</td>\n",
       "      <td>-9229</td>\n",
       "    </tr>\n",
       "    <tr>\n",
       "      <th>...</th>\n",
       "      <td>...</td>\n",
       "      <td>...</td>\n",
       "      <td>...</td>\n",
       "      <td>...</td>\n",
       "      <td>...</td>\n",
       "      <td>...</td>\n",
       "      <td>...</td>\n",
       "      <td>...</td>\n",
       "      <td>...</td>\n",
       "      <td>...</td>\n",
       "      <td>...</td>\n",
       "      <td>...</td>\n",
       "      <td>...</td>\n",
       "      <td>...</td>\n",
       "      <td>...</td>\n",
       "      <td>...</td>\n",
       "      <td>...</td>\n",
       "      <td>...</td>\n",
       "      <td>...</td>\n",
       "      <td>...</td>\n",
       "      <td>...</td>\n",
       "    </tr>\n",
       "    <tr>\n",
       "      <th>8631</th>\n",
       "      <td>1</td>\n",
       "      <td>24</td>\n",
       "      <td>7</td>\n",
       "      <td>6</td>\n",
       "      <td>7</td>\n",
       "      <td>8</td>\n",
       "      <td>1</td>\n",
       "      <td>1</td>\n",
       "      <td>0</td>\n",
       "      <td>0</td>\n",
       "      <td>...</td>\n",
       "      <td>2</td>\n",
       "      <td>1</td>\n",
       "      <td>1</td>\n",
       "      <td>0</td>\n",
       "      <td>23558</td>\n",
       "      <td>19954</td>\n",
       "      <td>8.6</td>\n",
       "      <td>340</td>\n",
       "      <td>100</td>\n",
       "      <td>722</td>\n",
       "    </tr>\n",
       "    <tr>\n",
       "      <th>8632</th>\n",
       "      <td>1</td>\n",
       "      <td>20</td>\n",
       "      <td>8</td>\n",
       "      <td>15</td>\n",
       "      <td>9</td>\n",
       "      <td>13</td>\n",
       "      <td>1</td>\n",
       "      <td>1</td>\n",
       "      <td>0</td>\n",
       "      <td>1</td>\n",
       "      <td>...</td>\n",
       "      <td>1</td>\n",
       "      <td>0</td>\n",
       "      <td>1</td>\n",
       "      <td>1</td>\n",
       "      <td>24741</td>\n",
       "      <td>23249</td>\n",
       "      <td>8.8</td>\n",
       "      <td>317</td>\n",
       "      <td>79</td>\n",
       "      <td>-1783</td>\n",
       "    </tr>\n",
       "    <tr>\n",
       "      <th>8633</th>\n",
       "      <td>1</td>\n",
       "      <td>26</td>\n",
       "      <td>4</td>\n",
       "      <td>17</td>\n",
       "      <td>16</td>\n",
       "      <td>21</td>\n",
       "      <td>3</td>\n",
       "      <td>2</td>\n",
       "      <td>1</td>\n",
       "      <td>1</td>\n",
       "      <td>...</td>\n",
       "      <td>0</td>\n",
       "      <td>0</td>\n",
       "      <td>0</td>\n",
       "      <td>0</td>\n",
       "      <td>25491</td>\n",
       "      <td>31258</td>\n",
       "      <td>8.6</td>\n",
       "      <td>246</td>\n",
       "      <td>62</td>\n",
       "      <td>-2358</td>\n",
       "    </tr>\n",
       "    <tr>\n",
       "      <th>8634</th>\n",
       "      <td>1</td>\n",
       "      <td>27</td>\n",
       "      <td>9</td>\n",
       "      <td>7</td>\n",
       "      <td>13</td>\n",
       "      <td>11</td>\n",
       "      <td>1</td>\n",
       "      <td>1</td>\n",
       "      <td>0</td>\n",
       "      <td>0</td>\n",
       "      <td>...</td>\n",
       "      <td>1</td>\n",
       "      <td>0</td>\n",
       "      <td>1</td>\n",
       "      <td>1</td>\n",
       "      <td>25270</td>\n",
       "      <td>21193</td>\n",
       "      <td>9.0</td>\n",
       "      <td>297</td>\n",
       "      <td>68</td>\n",
       "      <td>2430</td>\n",
       "    </tr>\n",
       "    <tr>\n",
       "      <th>8635</th>\n",
       "      <td>0</td>\n",
       "      <td>20</td>\n",
       "      <td>4</td>\n",
       "      <td>8</td>\n",
       "      <td>13</td>\n",
       "      <td>4</td>\n",
       "      <td>1</td>\n",
       "      <td>0</td>\n",
       "      <td>1</td>\n",
       "      <td>0</td>\n",
       "      <td>...</td>\n",
       "      <td>1</td>\n",
       "      <td>1</td>\n",
       "      <td>0</td>\n",
       "      <td>1</td>\n",
       "      <td>28009</td>\n",
       "      <td>24678</td>\n",
       "      <td>9.6</td>\n",
       "      <td>387</td>\n",
       "      <td>87</td>\n",
       "      <td>4429</td>\n",
       "    </tr>\n",
       "  </tbody>\n",
       "</table>\n",
       "<p>8636 rows × 31 columns</p>\n",
       "</div>"
      ],
      "text/plain": [
       "      blueWins  blueWardsPlaced  blueWardsDestroyed  blueKills  blueDeaths  \\\n",
       "0            0               32                   5         10          15   \n",
       "1            1               49                   6         10          14   \n",
       "2            1               26                   2         17          10   \n",
       "3            1              106                   8         10           8   \n",
       "4            1               31                  10         22           7   \n",
       "...        ...              ...                 ...        ...         ...   \n",
       "8631         1               24                   7          6           7   \n",
       "8632         1               20                   8         15           9   \n",
       "8633         1               26                   4         17          16   \n",
       "8634         1               27                   9          7          13   \n",
       "8635         0               20                   4          8          13   \n",
       "\n",
       "      blueAssists  blueEliteMonsters  blueDragons  blueHeraldsBarons  \\\n",
       "0              15                  0            0                  0   \n",
       "1               6                  1            1                  0   \n",
       "2              24                  2            1                  1   \n",
       "3              18                  2            1                  1   \n",
       "4              24                  3            2                  1   \n",
       "...           ...                ...          ...                ...   \n",
       "8631            8                  1            1                  0   \n",
       "8632           13                  1            1                  0   \n",
       "8633           21                  3            2                  1   \n",
       "8634           11                  1            1                  0   \n",
       "8635            4                  1            0                  1   \n",
       "\n",
       "      blueTowersDestroyed  ...  redEliteMonsters  redDragons  \\\n",
       "0                       1  ...                 2           2   \n",
       "1                       0  ...                 0           0   \n",
       "2                       0  ...                 0           0   \n",
       "3                       0  ...                 1           1   \n",
       "4                       2  ...                 0           0   \n",
       "...                   ...  ...               ...         ...   \n",
       "8631                    0  ...                 2           1   \n",
       "8632                    1  ...                 1           0   \n",
       "8633                    1  ...                 0           0   \n",
       "8634                    0  ...                 1           0   \n",
       "8635                    0  ...                 1           1   \n",
       "\n",
       "      redHeraldsBarons  redTowersDestroyed  redTotalGold  \\\n",
       "0                    0                   1         26016   \n",
       "1                    0                   1         25835   \n",
       "2                    0                   1         23499   \n",
       "3                    0                   0         21625   \n",
       "4                    0                   0         21954   \n",
       "...                ...                 ...           ...   \n",
       "8631                 1                   0         23558   \n",
       "8632                 1                   1         24741   \n",
       "8633                 0                   0         25491   \n",
       "8634                 1                   1         25270   \n",
       "8635                 0                   1         28009   \n",
       "\n",
       "      redTotalDamageToChampions  redAvgLevel  redTotalMinionsKilled  \\\n",
       "0                         22836          8.4                    279   \n",
       "1                         20998          8.6                    301   \n",
       "2                         25089          8.6                    268   \n",
       "3                         21831          8.4                    297   \n",
       "4                         19995          8.4                    293   \n",
       "...                         ...          ...                    ...   \n",
       "8631                      19954          8.6                    340   \n",
       "8632                      23249          8.8                    317   \n",
       "8633                      31258          8.6                    246   \n",
       "8634                      21193          9.0                    297   \n",
       "8635                      24678          9.6                    387   \n",
       "\n",
       "      redTotalJungleMinionsKilled  redGoldDiff  \n",
       "0                              69         1063  \n",
       "1                              77         3740  \n",
       "2                              80        -5804  \n",
       "3                              76        -2583  \n",
       "4                              79        -9229  \n",
       "...                           ...          ...  \n",
       "8631                          100          722  \n",
       "8632                           79        -1783  \n",
       "8633                           62        -2358  \n",
       "8634                           68         2430  \n",
       "8635                           87         4429  \n",
       "\n",
       "[8636 rows x 31 columns]"
      ]
     },
     "execution_count": 3,
     "metadata": {},
     "output_type": "execute_result"
    }
   ],
   "source": [
    "df_Elite"
   ]
  },
  {
   "cell_type": "code",
   "execution_count": 4,
   "id": "b5ace32f",
   "metadata": {},
   "outputs": [],
   "source": [
    "df_Elite = df_Elite.drop('redGoldDiff', axis=1)\n",
    "df_Average = df_Average.drop('redGoldDiff', axis=1)\n",
    "df_Skilled = df_Skilled.drop('redGoldDiff', axis=1)"
   ]
  },
  {
   "cell_type": "markdown",
   "id": "7f5666f0",
   "metadata": {},
   "source": [
    "### Checking for bias"
   ]
  },
  {
   "cell_type": "code",
   "execution_count": 5,
   "id": "01b58048",
   "metadata": {},
   "outputs": [],
   "source": [
    "def winPercentage(df):\n",
    "    df = df.copy()\n",
    "    y = df['blueWins']\n",
    "    blueWin = sum(y)\n",
    "    blue = blueWin/len(y)\n",
    "    red = 1 - blue\n",
    "    return blue,red"
   ]
  },
  {
   "cell_type": "code",
   "execution_count": 6,
   "id": "b8f305d6",
   "metadata": {},
   "outputs": [
    {
     "name": "stdout",
     "output_type": "stream",
     "text": [
      "blue wins: 0.5020842982862437\n",
      "red wins: 0.4979157017137563\n"
     ]
    }
   ],
   "source": [
    "#Elite\n",
    "blue,red = winPercentage(df_Elite)\n",
    "print('blue wins: '+ str(blue))\n",
    "print('red wins: ' + str(red))"
   ]
  },
  {
   "cell_type": "code",
   "execution_count": 7,
   "id": "311ab215",
   "metadata": {},
   "outputs": [
    {
     "name": "stdout",
     "output_type": "stream",
     "text": [
      "blue wins: 0.49506564455018065\n",
      "red wins: 0.5049343554498193\n"
     ]
    }
   ],
   "source": [
    "#Skilled\n",
    "blue,red = winPercentage(df_Skilled)\n",
    "print('blue wins: '+ str(blue))\n",
    "print('red wins: ' + str(red))"
   ]
  },
  {
   "cell_type": "code",
   "execution_count": 8,
   "id": "ec4b6b4f",
   "metadata": {},
   "outputs": [
    {
     "name": "stdout",
     "output_type": "stream",
     "text": [
      "blue wins: 0.5033655044695324\n",
      "red wins: 0.49663449553046757\n"
     ]
    }
   ],
   "source": [
    "#Average\n",
    "blue,red = winPercentage(df_Average)\n",
    "print('blue wins: '+ str(blue))\n",
    "print('red wins: ' + str(red))"
   ]
  },
  {
   "cell_type": "markdown",
   "id": "2929b100",
   "metadata": {},
   "source": [
    "# Cross Validation spliting data"
   ]
  },
  {
   "cell_type": "markdown",
   "id": "a912d5b4",
   "metadata": {},
   "source": [
    "## Getting training-valdata"
   ]
  },
  {
   "cell_type": "code",
   "execution_count": 15,
   "id": "d6b05f25",
   "metadata": {},
   "outputs": [],
   "source": [
    "def splitingDataFold(df):\n",
    "    df = df.copy()\n",
    "    #spliting data test- training\n",
    "    x = df.iloc[:, 1:30]\n",
    "    y = df.iloc[:, 0]\n",
    "    #Scale the data\n",
    "    scaler = StandardScaler()\n",
    "    x = scaler.fit_transform(x)\n",
    "    kf = KFold(n_splits=5, random_state = None, shuffle=True)\n",
    "    #xTrain,xTest,yTrain,yTest = train_test_split(x,y,train_size=0.8,shuffle=True,random_state=42)\n",
    "    #dataframe not numpy array - try differetn appoarch\n",
    "    xTrain=[]\n",
    "    yTrain=[]\n",
    "    yTest=[]\n",
    "    xTest=[]\n",
    "    for train_index, test_index in kf.split(x):\n",
    "        print(\"TRAIN:\", train_index, \"TEST:\", test_index)\n",
    "        xTrain.append(x[train_index])\n",
    "        #print(x[train_index])\n",
    "        xTest.append(x[test_index])\n",
    "        yTrain.append(y[train_index])\n",
    "        yTest.append(y[test_index])\n",
    "    \n",
    "    return xTrain,xTest,yTrain,yTest\n",
    "    "
   ]
  },
  {
   "cell_type": "code",
   "execution_count": 57,
   "id": "c91001b0",
   "metadata": {},
   "outputs": [
    {
     "name": "stdout",
     "output_type": "stream",
     "text": [
      "(6908, 29)\n"
     ]
    }
   ],
   "source": [
    "print(xTrain_Elite[0].shape)"
   ]
  },
  {
   "cell_type": "code",
   "execution_count": 17,
   "id": "43ee363d",
   "metadata": {},
   "outputs": [
    {
     "name": "stdout",
     "output_type": "stream",
     "text": [
      "TRAIN: [   0    2    3 ... 8633 8634 8635] TEST: [   1    7    9 ... 8619 8626 8628]\n",
      "TRAIN: [   0    1    2 ... 8633 8634 8635] TEST: [   4    5    6 ... 8615 8621 8632]\n",
      "TRAIN: [   1    3    4 ... 8631 8632 8635] TEST: [   0    2   19 ... 8630 8633 8634]\n",
      "TRAIN: [   0    1    2 ... 8632 8633 8634] TEST: [  10   14   17 ... 8612 8620 8635]\n",
      "TRAIN: [   0    1    2 ... 8633 8634 8635] TEST: [   3    8   12 ... 8623 8629 8631]\n",
      "Training set: 6908 samples\n",
      "Test set: 1728 samples\n"
     ]
    }
   ],
   "source": [
    "xTrain_Elite,xTest_Elite,yTrain_Elite,yTest_Elite = splitingDataFold(df_Elite)\n",
    "print (\"Training set: {} samples\".format(len(xTrain_Elite[0])))\n",
    "print (\"Test set: {} samples\".format(len(xTest_Elite[0])))"
   ]
  },
  {
   "cell_type": "code",
   "execution_count": 18,
   "id": "e194e91b",
   "metadata": {},
   "outputs": [
    {
     "name": "stdout",
     "output_type": "stream",
     "text": [
      "TRAIN: [    0     1     2 ... 22693 22694 22697] TEST: [    3     9    11 ... 22690 22695 22696]\n",
      "TRAIN: [    0     2     3 ... 22695 22696 22697] TEST: [    1     6    10 ... 22680 22685 22693]\n",
      "TRAIN: [    0     1     2 ... 22694 22695 22696] TEST: [    4     7    16 ... 22688 22691 22697]\n",
      "TRAIN: [    1     3     4 ... 22695 22696 22697] TEST: [    0     2     8 ... 22689 22692 22694]\n",
      "TRAIN: [    0     1     2 ... 22695 22696 22697] TEST: [    5    12    17 ... 22664 22669 22679]\n",
      "Training set: 18158 samples\n",
      "Test set: 4540 samples\n"
     ]
    }
   ],
   "source": [
    "xTrain_Skilled,xTest_Skilled,yTrain_Skilled,yTest_Skilled = splitingDataFold(df_Skilled)\n",
    "print (\"Training set: {} samples\".format(len(xTrain_Skilled[0])))\n",
    "print (\"Test set: {} samples\".format(len(xTest_Skilled[0])))"
   ]
  },
  {
   "cell_type": "code",
   "execution_count": 19,
   "id": "e0a9125e",
   "metadata": {},
   "outputs": [
    {
     "name": "stdout",
     "output_type": "stream",
     "text": [
      "TRAIN: [    0     1     2 ... 56155 56156 56157] TEST: [   11    16    20 ... 56130 56135 56142]\n",
      "TRAIN: [    2     3     5 ... 56153 56154 56157] TEST: [    0     1     4 ... 56149 56155 56156]\n",
      "TRAIN: [    0     1     4 ... 56155 56156 56157] TEST: [    2     3     5 ... 56129 56138 56153]\n",
      "TRAIN: [    0     1     2 ... 56155 56156 56157] TEST: [    6    12    19 ... 56145 56151 56152]\n",
      "TRAIN: [    0     1     2 ... 56153 56155 56156] TEST: [   13    21    35 ... 56150 56154 56157]\n",
      "Training set: 44926 samples\n",
      "Test set: 11232 samples\n"
     ]
    }
   ],
   "source": [
    "xTrain_Average,xTest_Average,yTrain_Average,yTest_Average = splitingDataFold(df_Average)\n",
    "print (\"Training set: {} samples\".format(len(xTrain_Average[0])))\n",
    "print (\"Test set: {} samples\".format(len(xTest_Average[0])))"
   ]
  },
  {
   "cell_type": "markdown",
   "id": "98c67061",
   "metadata": {},
   "source": [
    "### Training logistic regression"
   ]
  },
  {
   "cell_type": "code",
   "execution_count": 20,
   "id": "ee93a68c",
   "metadata": {},
   "outputs": [],
   "source": [
    "def trainingModelLogisticRegression(x_train,y_train,reg,sol):\n",
    "    lr = LogisticRegression(penalty=reg, solver=sol,max_iter=1000)\n",
    "    lr.fit(x_train,y_train)\n",
    "    return lr"
   ]
  },
  {
   "cell_type": "markdown",
   "id": "821905ef",
   "metadata": {},
   "source": [
    "#### l1 regulization"
   ]
  },
  {
   "cell_type": "code",
   "execution_count": 21,
   "id": "861b0b59",
   "metadata": {},
   "outputs": [],
   "source": [
    "trainedEliteLrL1=[]\n",
    "trainedAverageLrL1=[]\n",
    "trainedSkilledLrL1=[]\n",
    "for i in range(0,5):\n",
    "    trainedEliteLrL1.append(trainingModelLogisticRegression(xTrain_Elite[i],yTrain_Elite[i],'l1','saga'))\n",
    "    trainedAverageLrL1.append(trainingModelLogisticRegression(xTrain_Average[i],yTrain_Average[i],'l1','saga'))\n",
    "    trainedSkilledLrL1.append(trainingModelLogisticRegression(xTrain_Skilled[i],yTrain_Skilled[i],'l1','saga'))"
   ]
  },
  {
   "cell_type": "markdown",
   "id": "cdbd0a68",
   "metadata": {},
   "source": [
    "#### l2 regulization"
   ]
  },
  {
   "cell_type": "code",
   "execution_count": 22,
   "id": "ee679360",
   "metadata": {},
   "outputs": [],
   "source": [
    "trainedEliteLrL2=[]\n",
    "trainedAverageLrL2=[]\n",
    "trainedSkilledLrL2=[]\n",
    "for i in range(0,5):\n",
    "    trainedEliteLrL2.append(trainingModelLogisticRegression(xTrain_Elite[i],yTrain_Elite[i],'l2','saga'))\n",
    "    trainedAverageLrL2.append(trainingModelLogisticRegression(xTrain_Average[i],yTrain_Average[i],'l2','saga'))\n",
    "    trainedSkilledLrL2.append(trainingModelLogisticRegression(xTrain_Skilled[i],yTrain_Skilled[i],'l2','saga'))"
   ]
  },
  {
   "cell_type": "markdown",
   "id": "ded287a0",
   "metadata": {},
   "source": [
    "#### No Regulaztion"
   ]
  },
  {
   "cell_type": "code",
   "execution_count": 23,
   "id": "3494d244",
   "metadata": {},
   "outputs": [],
   "source": [
    "trainedEliteLrNone=[]\n",
    "trainedAverageLrNone=[]\n",
    "trainedSkilledLrNone=[]\n",
    "for i in range(0,5):\n",
    "    trainedEliteLrNone.append(trainingModelLogisticRegression(xTrain_Elite[i],yTrain_Elite[i],'none','saga'))\n",
    "    trainedAverageLrNone.append(trainingModelLogisticRegression(xTrain_Average[i],yTrain_Average[i],'none','saga'))\n",
    "    trainedSkilledLrNone.append(trainingModelLogisticRegression(xTrain_Skilled[i],yTrain_Skilled[i],'none','saga'))"
   ]
  },
  {
   "cell_type": "markdown",
   "id": "ea6f4fd6",
   "metadata": {},
   "source": [
    "### Tesing Model"
   ]
  },
  {
   "cell_type": "code",
   "execution_count": 24,
   "id": "979936b8",
   "metadata": {},
   "outputs": [],
   "source": [
    "def testingLr(lr,x_test,y_test):\n",
    "    name = ['','fold 1','fold 2','fold 3','fold 4','fold 5','Average']\n",
    "    acc = ['Accuracy']\n",
    "    pre = ['Precision']\n",
    "    re = ['Recall']\n",
    "    f1 = ['F1 Score']\n",
    "    sumacc=0\n",
    "    sumf1=0\n",
    "    sumpre=0\n",
    "    sumre= 0\n",
    "\n",
    "    for i in range(0,5):\n",
    "        \n",
    "        testEliteLr = lr[i].predict(x_test[i])\n",
    "        testEliteLr_prob = lr[i].predict_proba(x_test[i])\n",
    "        \n",
    "        accs= accuracy_score(y_test[i], testEliteLr)\n",
    "        pres= precision_score(y_test[i], testEliteLr)\n",
    "        res = recall_score(y_test[i], testEliteLr)\n",
    "        f1s = f1_score(y_test[i], testEliteLr)\n",
    "        \n",
    "        sumacc =sumacc+accs\n",
    "        sumpre =sumpre+pres\n",
    "        sumre = sumre +res\n",
    "        sumf1 =sumf1+f1s\n",
    "        \n",
    "        acc.append(' {:.5f}'.format(accs))\n",
    "        pre.append(' {:.5f}'.format(pres))\n",
    "        re.append(' {:.5f}'.format(res))\n",
    "        f1.append(' {:.5f}'.format(f1s))\n",
    "        \n",
    "    acc.append(' {:.5f}'.format(sumacc/5))\n",
    "    pre.append(' {:.5f}'.format(sumpre/5))\n",
    "    re.append(' {:.5f}'.format(sumre/5))\n",
    "    f1.append(' {:.5f}'.format(sumf1/5))\n",
    "    \n",
    "    table=[]\n",
    "    table.append(name)\n",
    "    table.append(acc)\n",
    "    table.append(pre)\n",
    "    table.append(re)\n",
    "    table.append(f1)\n",
    "    \n",
    "    print(tabulate(table))\n"
   ]
  },
  {
   "cell_type": "markdown",
   "id": "3df84465",
   "metadata": {},
   "source": [
    "### Coefficients"
   ]
  },
  {
   "cell_type": "code",
   "execution_count": 25,
   "id": "91fbcdbb",
   "metadata": {},
   "outputs": [],
   "source": [
    "def coefficientsLr(model):\n",
    "    coefficients = np.hstack((model.intercept_,model.coef_[0]))\n",
    "    name = ['blueWardsPlaced','blueWardsDestroyed','blueKills','blueDeaths','blueAssists','blueEliteMonsters','blueDragons','blueHeraldsBarons','blueTowersDestroyed','blueTotalGold','blueTotalDamageToChampions','blueAvgLevel','blueTotalMinionsKilled','blueTotalJungleMinionsKilled','blueGoldDiff','redWardsPlaced','redWardsDestroyed','redKills','redDeaths','redAssists','redEliteMonsters','redDragons','redHeraldsBarons','redTowersDestroyed','redTotalGold','redTotalDamageToChampions','redAvgLevel','redTotalMinionsKilled','redTotalJungleMinionsKilled']\n",
    "    return name,coefficients"
   ]
  },
  {
   "cell_type": "markdown",
   "id": "5441784a",
   "metadata": {},
   "source": [
    "### Elite Data"
   ]
  },
  {
   "cell_type": "markdown",
   "id": "fd7037c4",
   "metadata": {},
   "source": [
    "#### Testing data"
   ]
  },
  {
   "cell_type": "code",
   "execution_count": 26,
   "id": "e8ef93dd",
   "metadata": {},
   "outputs": [
    {
     "name": "stdout",
     "output_type": "stream",
     "text": [
      "---------  -------  -------  -------  -------  -------  -------\n",
      "           fold 1   fold 2   fold 3   fold 4   fold 5   Average\n",
      "Accuracy   0.77431  0.78402  0.78633  0.79386  0.76954  0.78161\n",
      "Precision  0.77455  0.76705  0.80376  0.79859  0.77885  0.78456\n",
      "Recall     0.78685  0.80071  0.77201  0.78563  0.75174  0.77939\n",
      "F1 Score   0.78065  0.78352  0.78756  0.79206  0.76505  0.78177\n",
      "---------  -------  -------  -------  -------  -------  -------\n"
     ]
    }
   ],
   "source": [
    "#No regularization\n",
    "testingLr(trainedEliteLrNone,xTest_Elite,yTest_Elite)"
   ]
  },
  {
   "cell_type": "code",
   "execution_count": 27,
   "id": "e54edb55",
   "metadata": {},
   "outputs": [
    {
     "name": "stdout",
     "output_type": "stream",
     "text": [
      "---------  -------  -------  -------  -------  -------  -------\n",
      "           fold 1   fold 2   fold 3   fold 4   fold 5   Average\n",
      "Accuracy   0.77431  0.78460  0.78576  0.79328  0.77012  0.78161\n",
      "Precision  0.77455  0.76731  0.80282  0.79835  0.77978  0.78456\n",
      "Recall     0.78685  0.80190  0.77201  0.78447  0.75174  0.77939\n",
      "F1 Score   0.78065  0.78422  0.78711  0.79135  0.76551  0.78177\n",
      "---------  -------  -------  -------  -------  -------  -------\n"
     ]
    }
   ],
   "source": [
    "#L1 regularization\n",
    "testingLr(trainedEliteLrL1,xTest_Elite,yTest_Elite)"
   ]
  },
  {
   "cell_type": "code",
   "execution_count": 28,
   "id": "29284d48",
   "metadata": {},
   "outputs": [
    {
     "name": "stdout",
     "output_type": "stream",
     "text": [
      "---------  -------  -------  -------  -------  -------  -------\n",
      "           fold 1   fold 2   fold 3   fold 4   fold 5   Average\n",
      "Accuracy   0.77488  0.78460  0.78633  0.79386  0.77012  0.78196\n",
      "Precision  0.77480  0.76731  0.80376  0.79859  0.77911  0.78471\n",
      "Recall     0.78798  0.80190  0.77201  0.78563  0.75290  0.78008\n",
      "F1 Score   0.78134  0.78422  0.78756  0.79206  0.76578  0.78219\n",
      "---------  -------  -------  -------  -------  -------  -------\n"
     ]
    }
   ],
   "source": [
    "#L2 regularization\n",
    "testingLr(trainedEliteLrL2,xTest_Elite,yTest_Elite)"
   ]
  },
  {
   "cell_type": "markdown",
   "id": "ecc2b6f9",
   "metadata": {},
   "source": [
    "#### Training data"
   ]
  },
  {
   "cell_type": "code",
   "execution_count": 29,
   "id": "c23469f4",
   "metadata": {},
   "outputs": [
    {
     "name": "stdout",
     "output_type": "stream",
     "text": [
      "---------  -------  -------  -------  -------  -------  -------\n",
      "           fold 1   fold 2   fold 3   fold 4   fold 5   Average\n",
      "Accuracy   0.78344  0.78087  0.78000  0.77927  0.78362  0.78144\n",
      "Precision  0.78626  0.78557  0.78233  0.78199  0.78739  0.78471\n",
      "Recall     0.77852  0.77927  0.77507  0.77771  0.78037  0.77819\n",
      "F1 Score   0.78237  0.78241  0.77868  0.77985  0.78387  0.78143\n",
      "---------  -------  -------  -------  -------  -------  -------\n"
     ]
    }
   ],
   "source": [
    "#No regularization\n",
    "testingLr(trainedEliteLrNone,xTrain_Elite,yTrain_Elite)"
   ]
  },
  {
   "cell_type": "code",
   "execution_count": 30,
   "id": "b3b38d5d",
   "metadata": {},
   "outputs": [
    {
     "name": "stdout",
     "output_type": "stream",
     "text": [
      "---------  -------  -------  -------  -------  -------  -------\n",
      "           fold 1   fold 2   fold 3   fold 4   fold 5   Average\n",
      "Accuracy   0.78272  0.78159  0.77985  0.77971  0.78376  0.78153\n",
      "Precision  0.78544  0.78621  0.78227  0.78234  0.78762  0.78478\n",
      "Recall     0.77794  0.78013  0.77478  0.77829  0.78037  0.77830\n",
      "F1 Score   0.78167  0.78316  0.77851  0.78031  0.78398  0.78153\n",
      "---------  -------  -------  -------  -------  -------  -------\n"
     ]
    }
   ],
   "source": [
    "#L1 regularization\n",
    "testingLr(trainedEliteLrL1,xTrain_Elite,yTrain_Elite)"
   ]
  },
  {
   "cell_type": "code",
   "execution_count": 31,
   "id": "9a88cb4f",
   "metadata": {},
   "outputs": [
    {
     "name": "stdout",
     "output_type": "stream",
     "text": [
      "---------  -------  -------  -------  -------  -------  -------\n",
      "           fold 1   fold 2   fold 3   fold 4   fold 5   Average\n",
      "Accuracy   0.78373  0.78087  0.78014  0.77956  0.78362  0.78158\n",
      "Precision  0.78655  0.78541  0.78239  0.78212  0.78739  0.78477\n",
      "Recall     0.77881  0.77956  0.77536  0.77829  0.78037  0.77848\n",
      "F1 Score   0.78266  0.78247  0.77886  0.78020  0.78387  0.78161\n",
      "---------  -------  -------  -------  -------  -------  -------\n"
     ]
    }
   ],
   "source": [
    "#L2 regularization\n",
    "testingLr(trainedEliteLrL2,xTrain_Elite,yTrain_Elite)"
   ]
  },
  {
   "cell_type": "markdown",
   "id": "93188b17",
   "metadata": {},
   "source": [
    "#### Coefficient"
   ]
  },
  {
   "cell_type": "code",
   "execution_count": 32,
   "id": "eccd969b",
   "metadata": {},
   "outputs": [
    {
     "name": "stdout",
     "output_type": "stream",
     "text": [
      "|    | variable                     |   coefficient |\n",
      "|---:|:-----------------------------|--------------:|\n",
      "| 25 | redTotalGold                 |   -0.241085   |\n",
      "| 22 | redDragons                   |   -0.167228   |\n",
      "| 27 | redAvgLevel                  |   -0.149542   |\n",
      "| 28 | redTotalMinionsKilled        |   -0.0925612  |\n",
      "| 26 | redTotalDamageToChampions    |   -0.0477038  |\n",
      "|  4 | blueDeaths                   |   -0.0419439  |\n",
      "| 18 | redKills                     |   -0.0419439  |\n",
      "|  1 | blueWardsPlaced              |   -0.0148192  |\n",
      "| 16 | redWardsPlaced               |   -0.00952044 |\n",
      "| 21 | redEliteMonsters             |   -0.00462934 |\n",
      "| 29 | redTotalJungleMinionsKilled  |   -0.00404413 |\n",
      "|  8 | blueHeraldsBarons            |    0          |\n",
      "| 23 | redHeraldsBarons             |    0          |\n",
      "| 24 | redTowersDestroyed           |    0          |\n",
      "|  6 | blueEliteMonsters            |    0          |\n",
      "| 10 | blueTotalGold                |    0          |\n",
      "| 20 | redAssists                   |    0.00683417 |\n",
      "| 17 | redWardsDestroyed            |    0.00777303 |\n",
      "|  0 | Intercept                    |    0.0144238  |\n",
      "| 13 | blueTotalMinionsKilled       |    0.022896   |\n",
      "|  9 | blueTowersDestroyed          |    0.0251435  |\n",
      "|  2 | blueWardsDestroyed           |    0.0668939  |\n",
      "|  5 | blueAssists                  |    0.0672451  |\n",
      "| 11 | blueTotalDamageToChampions   |    0.0960311  |\n",
      "| 14 | blueTotalJungleMinionsKilled |    0.112351   |\n",
      "| 19 | redDeaths                    |    0.122938   |\n",
      "|  3 | blueKills                    |    0.122938   |\n",
      "|  7 | blueDragons                  |    0.124938   |\n",
      "| 12 | blueAvgLevel                 |    0.253747   |\n",
      "| 15 | blueGoldDiff                 |    1.07469    |\n"
     ]
    }
   ],
   "source": [
    "#Take fold 5 as L1 regularization has highest accuracy\n",
    "#L1 regularization\n",
    "name,coef = coefficientsLr(trainedEliteLrL1[4])\n",
    "df = pd.DataFrame(data={'variable': ['Intercept'] + name, 'coefficient': coef})\n",
    "df = df.sort_values(by='coefficient')\n",
    "print(df.to_markdown())"
   ]
  },
  {
   "cell_type": "markdown",
   "id": "28c76dd6",
   "metadata": {},
   "source": [
    "### Skilled Data"
   ]
  },
  {
   "cell_type": "markdown",
   "id": "c51434f3",
   "metadata": {},
   "source": [
    "#### Testing data"
   ]
  },
  {
   "cell_type": "code",
   "execution_count": 33,
   "id": "817ea1ea",
   "metadata": {},
   "outputs": [
    {
     "name": "stdout",
     "output_type": "stream",
     "text": [
      "---------  -------  -------  -------  -------  -------  -------\n",
      "           fold 1   fold 2   fold 3   fold 4   fold 5   Average\n",
      "Accuracy   0.76740  0.75925  0.75815  0.76625  0.75457  0.76112\n",
      "Precision  0.76211  0.75088  0.75707  0.76588  0.75738  0.75867\n",
      "Recall     0.77026  0.76465  0.75167  0.77092  0.73632  0.75876\n",
      "F1 Score   0.76616  0.75770  0.75436  0.76839  0.74670  0.75866\n",
      "---------  -------  -------  -------  -------  -------  -------\n"
     ]
    }
   ],
   "source": [
    "#No regularization\n",
    "testingLr(trainedSkilledLrNone,xTest_Skilled,yTest_Skilled)"
   ]
  },
  {
   "cell_type": "code",
   "execution_count": 34,
   "id": "d7b4743f",
   "metadata": {},
   "outputs": [
    {
     "name": "stdout",
     "output_type": "stream",
     "text": [
      "---------  -------  -------  -------  -------  -------  -------\n",
      "           fold 1   fold 2   fold 3   fold 4   fold 5   Average\n",
      "Accuracy   0.76740  0.75925  0.75793  0.76603  0.75501  0.76112\n",
      "Precision  0.76211  0.75088  0.75696  0.76555  0.75760  0.75862\n",
      "Recall     0.77026  0.76465  0.75123  0.77092  0.73722  0.75885\n",
      "F1 Score   0.76616  0.75770  0.75408  0.76822  0.74727  0.75869\n",
      "---------  -------  -------  -------  -------  -------  -------\n"
     ]
    }
   ],
   "source": [
    "#L1 regularization\n",
    "testingLr(trainedSkilledLrL1,xTest_Skilled,yTest_Skilled)"
   ]
  },
  {
   "cell_type": "code",
   "execution_count": 35,
   "id": "e1e53818",
   "metadata": {},
   "outputs": [
    {
     "name": "stdout",
     "output_type": "stream",
     "text": [
      "---------  -------  -------  -------  -------  -------  -------\n",
      "           fold 1   fold 2   fold 3   fold 4   fold 5   Average\n",
      "Accuracy   0.76740  0.75925  0.75837  0.76625  0.75457  0.76117\n",
      "Precision  0.76211  0.75088  0.75718  0.76588  0.75738  0.75869\n",
      "Recall     0.77026  0.76465  0.75212  0.77092  0.73632  0.75885\n",
      "F1 Score   0.76616  0.75770  0.75464  0.76839  0.74670  0.75872\n",
      "---------  -------  -------  -------  -------  -------  -------\n"
     ]
    }
   ],
   "source": [
    "#L2 regularization\n",
    "testingLr(trainedSkilledLrL2,xTest_Skilled,yTest_Skilled)"
   ]
  },
  {
   "cell_type": "markdown",
   "id": "b660e97e",
   "metadata": {},
   "source": [
    "#### Training data"
   ]
  },
  {
   "cell_type": "code",
   "execution_count": 36,
   "id": "31e16f73",
   "metadata": {},
   "outputs": [
    {
     "name": "stdout",
     "output_type": "stream",
     "text": [
      "---------  -------  -------  -------  -------  -------  -------\n",
      "           fold 1   fold 2   fold 3   fold 4   fold 5   Average\n",
      "Accuracy   0.76038  0.76253  0.76159  0.76072  0.76403  0.76185\n",
      "Precision  0.75818  0.76160  0.76000  0.75746  0.76193  0.75983\n",
      "Recall     0.75776  0.75839  0.75806  0.75720  0.76252  0.75879\n",
      "F1 Score   0.75797  0.75999  0.75903  0.75733  0.76222  0.75931\n",
      "---------  -------  -------  -------  -------  -------  -------\n"
     ]
    }
   ],
   "source": [
    "#No regularization\n",
    "testingLr(trainedSkilledLrNone,xTrain_Skilled,yTrain_Skilled)"
   ]
  },
  {
   "cell_type": "code",
   "execution_count": 37,
   "id": "d013808f",
   "metadata": {},
   "outputs": [
    {
     "name": "stdout",
     "output_type": "stream",
     "text": [
      "---------  -------  -------  -------  -------  -------  -------\n",
      "           fold 1   fold 2   fold 3   fold 4   fold 5   Average\n",
      "Accuracy   0.76044  0.76264  0.76154  0.76067  0.76403  0.76186\n",
      "Precision  0.75809  0.76166  0.75998  0.75732  0.76193  0.75979\n",
      "Recall     0.75809  0.75861  0.75795  0.75732  0.76252  0.75890\n",
      "F1 Score   0.75809  0.76013  0.75896  0.75732  0.76222  0.75934\n",
      "---------  -------  -------  -------  -------  -------  -------\n"
     ]
    }
   ],
   "source": [
    "#L1 regularization\n",
    "testingLr(trainedSkilledLrL1,xTrain_Skilled,yTrain_Skilled)"
   ]
  },
  {
   "cell_type": "code",
   "execution_count": 38,
   "id": "b56bba3d",
   "metadata": {},
   "outputs": [
    {
     "name": "stdout",
     "output_type": "stream",
     "text": [
      "---------  -------  -------  -------  -------  -------  -------\n",
      "           fold 1   fold 2   fold 3   fold 4   fold 5   Average\n",
      "Accuracy   0.76027  0.76253  0.76165  0.76083  0.76414  0.76188\n",
      "Precision  0.75801  0.76160  0.76009  0.75745  0.76204  0.75984\n",
      "Recall     0.75776  0.75839  0.75806  0.75754  0.76263  0.75887\n",
      "F1 Score   0.75788  0.75999  0.75907  0.75750  0.76233  0.75936\n",
      "---------  -------  -------  -------  -------  -------  -------\n"
     ]
    }
   ],
   "source": [
    "#L2 regularization\n",
    "testingLr(trainedSkilledLrL2,xTrain_Skilled,yTrain_Skilled)"
   ]
  },
  {
   "cell_type": "markdown",
   "id": "e707854c",
   "metadata": {},
   "source": [
    "#### Coefficients"
   ]
  },
  {
   "cell_type": "code",
   "execution_count": 39,
   "id": "7ee74f63",
   "metadata": {},
   "outputs": [
    {
     "name": "stdout",
     "output_type": "stream",
     "text": [
      "|    | variable                     |   coefficient |\n",
      "|---:|:-----------------------------|--------------:|\n",
      "| 27 | redAvgLevel                  |   -0.219614   |\n",
      "| 25 | redTotalGold                 |   -0.153196   |\n",
      "| 26 | redTotalDamageToChampions    |   -0.13918    |\n",
      "| 22 | redDragons                   |   -0.0959354  |\n",
      "| 29 | redTotalJungleMinionsKilled  |   -0.0565951  |\n",
      "| 21 | redEliteMonsters             |   -0.0403849  |\n",
      "| 20 | redAssists                   |   -0.036967   |\n",
      "|  9 | blueTowersDestroyed          |   -0.0356346  |\n",
      "| 17 | redWardsDestroyed            |   -0.035412   |\n",
      "|  0 | Intercept                    |   -0.0260927  |\n",
      "| 16 | redWardsPlaced               |   -0.00972993 |\n",
      "| 28 | redTotalMinionsKilled        |   -0.00436173 |\n",
      "|  1 | blueWardsPlaced              |   -0.00317321 |\n",
      "| 10 | blueTotalGold                |    0          |\n",
      "| 23 | redHeraldsBarons             |    0          |\n",
      "|  8 | blueHeraldsBarons            |    0          |\n",
      "| 24 | redTowersDestroyed           |    0.0152148  |\n",
      "|  2 | blueWardsDestroyed           |    0.0189228  |\n",
      "| 18 | redKills                     |    0.0317083  |\n",
      "|  4 | blueDeaths                   |    0.0317083  |\n",
      "|  3 | blueKills                    |    0.0333245  |\n",
      "| 19 | redDeaths                    |    0.0333245  |\n",
      "| 14 | blueTotalJungleMinionsKilled |    0.0488138  |\n",
      "|  5 | blueAssists                  |    0.0493311  |\n",
      "| 13 | blueTotalMinionsKilled       |    0.0622127  |\n",
      "|  6 | blueEliteMonsters            |    0.0647399  |\n",
      "| 11 | blueTotalDamageToChampions   |    0.115925   |\n",
      "|  7 | blueDragons                  |    0.157483   |\n",
      "| 12 | blueAvgLevel                 |    0.193225   |\n",
      "| 15 | blueGoldDiff                 |    1.05042    |\n"
     ]
    }
   ],
   "source": [
    "#Take fold 2 as L1 regularization has highest accuracy\n",
    "#L1 regularization\n",
    "name,coef = coefficientsLr(trainedSkilledLrL1[1])\n",
    "df = pd.DataFrame(data={'variable': ['Intercept'] + name, 'coefficient': coef})\n",
    "df = df.sort_values(by='coefficient')\n",
    "print(df.to_markdown())"
   ]
  },
  {
   "cell_type": "markdown",
   "id": "45158e08",
   "metadata": {},
   "source": [
    "### Average Data"
   ]
  },
  {
   "cell_type": "markdown",
   "id": "e7795288",
   "metadata": {},
   "source": [
    "#### Testing data"
   ]
  },
  {
   "cell_type": "code",
   "execution_count": 40,
   "id": "40a37921",
   "metadata": {},
   "outputs": [
    {
     "name": "stdout",
     "output_type": "stream",
     "text": [
      "---------  -------  -------  -------  -------  -------  -------\n",
      "           fold 1   fold 2   fold 3   fold 4   fold 5   Average\n",
      "Accuracy   0.75855  0.76522  0.76300  0.76235  0.76253  0.76233\n",
      "Precision  0.75660  0.76717  0.76208  0.77004  0.76405  0.76399\n",
      "Recall     0.76625  0.76812  0.76154  0.76212  0.76093  0.76379\n",
      "F1 Score   0.76139  0.76764  0.76181  0.76606  0.76249  0.76388\n",
      "---------  -------  -------  -------  -------  -------  -------\n"
     ]
    }
   ],
   "source": [
    "#No regularization\n",
    "testingLr(trainedAverageLrNone,xTest_Average,yTest_Average)"
   ]
  },
  {
   "cell_type": "code",
   "execution_count": 41,
   "id": "285aa630",
   "metadata": {},
   "outputs": [
    {
     "name": "stdout",
     "output_type": "stream",
     "text": [
      "---------  -------  -------  -------  -------  -------  -------\n",
      "           fold 1   fold 2   fold 3   fold 4   fold 5   Average\n",
      "Accuracy   0.75864  0.76531  0.76291  0.76227  0.76235  0.76230\n",
      "Precision  0.75673  0.76731  0.76204  0.76991  0.76397  0.76399\n",
      "Recall     0.76625  0.76812  0.76136  0.76212  0.76058  0.76368\n",
      "F1 Score   0.76146  0.76771  0.76170  0.76599  0.76227  0.76383\n",
      "---------  -------  -------  -------  -------  -------  -------\n"
     ]
    }
   ],
   "source": [
    "#L1 regularization\n",
    "testingLr(trainedAverageLrL1,xTest_Average,yTest_Average)"
   ]
  },
  {
   "cell_type": "code",
   "execution_count": 42,
   "id": "e777c86d",
   "metadata": {},
   "outputs": [
    {
     "name": "stdout",
     "output_type": "stream",
     "text": [
      "---------  -------  -------  -------  -------  -------  -------\n",
      "           fold 1   fold 2   fold 3   fold 4   fold 5   Average\n",
      "Accuracy   0.75864  0.76522  0.76300  0.76235  0.76253  0.76235\n",
      "Precision  0.75673  0.76717  0.76208  0.77004  0.76405  0.76402\n",
      "Recall     0.76625  0.76812  0.76154  0.76212  0.76093  0.76379\n",
      "F1 Score   0.76146  0.76764  0.76181  0.76606  0.76249  0.76389\n",
      "---------  -------  -------  -------  -------  -------  -------\n"
     ]
    }
   ],
   "source": [
    "#L2 regularization\n",
    "testingLr(trainedAverageLrL2,xTest_Average,yTest_Average)"
   ]
  },
  {
   "cell_type": "markdown",
   "id": "a08a7aa0",
   "metadata": {},
   "source": [
    "#### Training data"
   ]
  },
  {
   "cell_type": "code",
   "execution_count": 43,
   "id": "0cc6b3a4",
   "metadata": {},
   "outputs": [
    {
     "name": "stdout",
     "output_type": "stream",
     "text": [
      "---------  -------  -------  -------  -------  -------  -------\n",
      "           fold 1   fold 2   fold 3   fold 4   fold 5   Average\n",
      "Accuracy   0.76348  0.76221  0.76265  0.76221  0.76288  0.76269\n",
      "Precision  0.76483  0.76375  0.76471  0.76344  0.76490  0.76432\n",
      "Recall     0.76570  0.76338  0.76528  0.76205  0.76446  0.76417\n",
      "F1 Score   0.76526  0.76356  0.76499  0.76274  0.76468  0.76425\n",
      "---------  -------  -------  -------  -------  -------  -------\n"
     ]
    }
   ],
   "source": [
    "#No regularization\n",
    "testingLr(trainedAverageLrNone,xTrain_Average,yTrain_Average)"
   ]
  },
  {
   "cell_type": "code",
   "execution_count": 44,
   "id": "0a7ca601",
   "metadata": {},
   "outputs": [
    {
     "name": "stdout",
     "output_type": "stream",
     "text": [
      "---------  -------  -------  -------  -------  -------  -------\n",
      "           fold 1   fold 2   fold 3   fold 4   fold 5   Average\n",
      "Accuracy   0.76354  0.76219  0.76263  0.76217  0.76286  0.76268\n",
      "Precision  0.76490  0.76374  0.76470  0.76337  0.76492  0.76432\n",
      "Recall     0.76575  0.76333  0.76524  0.76205  0.76438  0.76415\n",
      "F1 Score   0.76533  0.76353  0.76497  0.76271  0.76465  0.76424\n",
      "---------  -------  -------  -------  -------  -------  -------\n"
     ]
    }
   ],
   "source": [
    "#L1 regularization\n",
    "testingLr(trainedAverageLrL1,xTrain_Average,yTrain_Average)"
   ]
  },
  {
   "cell_type": "code",
   "execution_count": 45,
   "id": "c7b006cf",
   "metadata": {},
   "outputs": [
    {
     "name": "stdout",
     "output_type": "stream",
     "text": [
      "---------  -------  -------  -------  -------  -------  -------\n",
      "           fold 1   fold 2   fold 3   fold 4   fold 5   Average\n",
      "Accuracy   0.76350  0.76225  0.76265  0.76226  0.76282  0.76270\n",
      "Precision  0.76486  0.76379  0.76471  0.76348  0.76480  0.76433\n",
      "Recall     0.76570  0.76342  0.76528  0.76209  0.76446  0.76419\n",
      "F1 Score   0.76528  0.76361  0.76499  0.76279  0.76463  0.76426\n",
      "---------  -------  -------  -------  -------  -------  -------\n"
     ]
    }
   ],
   "source": [
    "#L2 regularization\n",
    "testingLr(trainedAverageLrL2,xTrain_Average,yTrain_Average)"
   ]
  },
  {
   "cell_type": "markdown",
   "id": "436dd734",
   "metadata": {},
   "source": [
    "#### Coefficients"
   ]
  },
  {
   "cell_type": "code",
   "execution_count": 46,
   "id": "38250ef6",
   "metadata": {},
   "outputs": [
    {
     "name": "stdout",
     "output_type": "stream",
     "text": [
      "|    | variable                     |   coefficient |\n",
      "|---:|:-----------------------------|--------------:|\n",
      "| 22 | redDragons                   |   -0.137029   |\n",
      "| 26 | redTotalDamageToChampions    |   -0.113611   |\n",
      "| 27 | redAvgLevel                  |   -0.100282   |\n",
      "| 28 | redTotalMinionsKilled        |   -0.0969282  |\n",
      "| 21 | redEliteMonsters             |   -0.0690403  |\n",
      "| 18 | redKills                     |   -0.0465822  |\n",
      "|  4 | blueDeaths                   |   -0.0465822  |\n",
      "| 25 | redTotalGold                 |   -0.0436581  |\n",
      "|  5 | blueAssists                  |   -0.038553   |\n",
      "|  9 | blueTowersDestroyed          |   -0.0338974  |\n",
      "| 29 | redTotalJungleMinionsKilled  |   -0.0262709  |\n",
      "| 16 | redWardsPlaced               |   -0.00515359 |\n",
      "|  2 | blueWardsDestroyed           |   -0.00279822 |\n",
      "|  8 | blueHeraldsBarons            |    0          |\n",
      "| 10 | blueTotalGold                |    0          |\n",
      "| 23 | redHeraldsBarons             |    0          |\n",
      "| 17 | redWardsDestroyed            |    0.00603194 |\n",
      "|  1 | blueWardsPlaced              |    0.00660666 |\n",
      "|  0 | Intercept                    |    0.0269925  |\n",
      "| 19 | redDeaths                    |    0.0298461  |\n",
      "|  3 | blueKills                    |    0.0298461  |\n",
      "|  6 | blueEliteMonsters            |    0.0344409  |\n",
      "| 14 | blueTotalJungleMinionsKilled |    0.0543614  |\n",
      "| 20 | redAssists                   |    0.057758   |\n",
      "| 24 | redTowersDestroyed           |    0.0664969  |\n",
      "| 13 | blueTotalMinionsKilled       |    0.0808178  |\n",
      "| 12 | blueAvgLevel                 |    0.091984   |\n",
      "| 11 | blueTotalDamageToChampions   |    0.140426   |\n",
      "|  7 | blueDragons                  |    0.18172    |\n",
      "| 15 | blueGoldDiff                 |    1.25011    |\n"
     ]
    }
   ],
   "source": [
    "#Take fold 2 as L1 regularization has highest accuracy\n",
    "#L1 regularization\n",
    "name,coef = coefficientsLr(trainedAverageLrL1[1])\n",
    "df = pd.DataFrame(data={'variable': ['Intercept'] + name, 'coefficient': coef})\n",
    "df = df.sort_values(by='coefficient')\n",
    "print(df.to_markdown())"
   ]
  },
  {
   "cell_type": "code",
   "execution_count": 47,
   "id": "11461462",
   "metadata": {},
   "outputs": [],
   "source": [
    "from sklearn.ensemble import RandomForestClassifier"
   ]
  },
  {
   "cell_type": "code",
   "execution_count": 55,
   "id": "7da3227e",
   "metadata": {},
   "outputs": [],
   "source": [
    "def trainingModelRandomForest(x,y,nSamples,maxDepth,minSampleSplit,minSampleLeaf,maxFeatures,classWeight):\n",
    "    rf=RandomForestClassifier(n_estimators=nSamples,max_depth=maxDepth, min_samples_split=minSampleSplit, min_samples_leaf=minSampleLeaf,max_features=maxFeatures,class_weight=classWeight)\n",
    "    rf.fit(x,y)\n",
    "    return rf\n",
    "    #y_pred=clf.predict(X_test)"
   ]
  },
  {
   "cell_type": "code",
   "execution_count": 49,
   "id": "43b847ef",
   "metadata": {},
   "outputs": [],
   "source": [
    "#Orginial Var\n",
    "trainedEliteRf=[]\n",
    "trainedAverageRf=[]\n",
    "trainedSkilledRf=[]\n",
    "nSamples=100\n",
    "maxDepth= None\n",
    "minSampleSplit=2\n",
    "minSampleLeaf=1\n",
    "maxFeatures='auto'\n",
    "for i in range(0,5):\n",
    "    trainedEliteRf.append(trainingModelRandomForest(xTrain_Elite[i],yTrain_Elite[i],nSamples,maxDepth,minSampleSplit,minSampleLeaf,maxFeatures))\n",
    "    trainedAverageRf.append(trainingModelRandomForest(xTrain_Average[i],yTrain_Average[i],nSamples,maxDepth,minSampleSplit,minSampleLeaf,maxFeatures))\n",
    "    trainedSkilledRf.append(trainingModelRandomForest(xTrain_Skilled[i],yTrain_Skilled[i],nSamples,maxDepth,minSampleSplit,minSampleLeaf,maxFeatures))"
   ]
  },
  {
   "cell_type": "code",
   "execution_count": 1,
   "id": "c616682f",
   "metadata": {},
   "outputs": [
    {
     "ename": "NameError",
     "evalue": "name 'trainingModelRandomForest' is not defined",
     "output_type": "error",
     "traceback": [
      "\u001b[1;31m---------------------------------------------------------------------------\u001b[0m",
      "\u001b[1;31mNameError\u001b[0m                                 Traceback (most recent call last)",
      "\u001b[1;32m~\\AppData\\Local\\Temp/ipykernel_22336/1801832982.py\u001b[0m in \u001b[0;36m<module>\u001b[1;34m\u001b[0m\n\u001b[0;32m     12\u001b[0m \u001b[1;31m#classWeight={0:1 ,1:1 ,2:1 ,3:1 ,4:1 ,5:1 ,6:1 ,7:1 ,8:1 ,9:1 ,10:1 ,11:1 , 12:1 ,13:1 ,14:2 ,15:1 ,16:1 ,17:1 ,18:1 ,19:1 ,20:1 ,21:1 ,22:1 ,23:1 ,24:1 ,25:1 ,26:1 ,27:1 ,28:1 }\u001b[0m\u001b[1;33m\u001b[0m\u001b[1;33m\u001b[0m\u001b[0m\n\u001b[0;32m     13\u001b[0m \u001b[1;32mfor\u001b[0m \u001b[0mi\u001b[0m \u001b[1;32min\u001b[0m \u001b[0mrange\u001b[0m\u001b[1;33m(\u001b[0m\u001b[1;36m0\u001b[0m\u001b[1;33m,\u001b[0m\u001b[1;36m5\u001b[0m\u001b[1;33m)\u001b[0m\u001b[1;33m:\u001b[0m\u001b[1;33m\u001b[0m\u001b[1;33m\u001b[0m\u001b[0m\n\u001b[1;32m---> 14\u001b[1;33m     \u001b[0mtrainedEliteRf1\u001b[0m\u001b[1;33m.\u001b[0m\u001b[0mappend\u001b[0m\u001b[1;33m(\u001b[0m\u001b[0mtrainingModelRandomForest\u001b[0m\u001b[1;33m(\u001b[0m\u001b[0mxTrain_Elite\u001b[0m\u001b[1;33m[\u001b[0m\u001b[0mi\u001b[0m\u001b[1;33m]\u001b[0m\u001b[1;33m,\u001b[0m\u001b[0myTrain_Elite\u001b[0m\u001b[1;33m[\u001b[0m\u001b[0mi\u001b[0m\u001b[1;33m]\u001b[0m\u001b[1;33m,\u001b[0m\u001b[0mnSamples\u001b[0m\u001b[1;33m,\u001b[0m\u001b[0mmaxDepth\u001b[0m\u001b[1;33m,\u001b[0m\u001b[0mminSampleSplit\u001b[0m\u001b[1;33m,\u001b[0m\u001b[0mminSampleLeaf\u001b[0m\u001b[1;33m,\u001b[0m\u001b[0mmaxFeatures\u001b[0m\u001b[1;33m)\u001b[0m\u001b[1;33m)\u001b[0m\u001b[1;33m\u001b[0m\u001b[1;33m\u001b[0m\u001b[0m\n\u001b[0m\u001b[0;32m     15\u001b[0m     \u001b[0mtrainedAverageRf1\u001b[0m\u001b[1;33m.\u001b[0m\u001b[0mappend\u001b[0m\u001b[1;33m(\u001b[0m\u001b[0mtrainingModelRandomForest\u001b[0m\u001b[1;33m(\u001b[0m\u001b[0mxTrain_Average\u001b[0m\u001b[1;33m[\u001b[0m\u001b[0mi\u001b[0m\u001b[1;33m]\u001b[0m\u001b[1;33m,\u001b[0m\u001b[0myTrain_Average\u001b[0m\u001b[1;33m[\u001b[0m\u001b[0mi\u001b[0m\u001b[1;33m]\u001b[0m\u001b[1;33m,\u001b[0m\u001b[0mnSamples\u001b[0m\u001b[1;33m,\u001b[0m\u001b[0mmaxDepth\u001b[0m\u001b[1;33m,\u001b[0m\u001b[0mminSampleSplit\u001b[0m\u001b[1;33m,\u001b[0m\u001b[0mminSampleLeaf\u001b[0m\u001b[1;33m,\u001b[0m\u001b[0mmaxFeatures\u001b[0m\u001b[1;33m)\u001b[0m\u001b[1;33m)\u001b[0m\u001b[1;33m\u001b[0m\u001b[1;33m\u001b[0m\u001b[0m\n\u001b[0;32m     16\u001b[0m     \u001b[0mtrainedSkilledRf1\u001b[0m\u001b[1;33m.\u001b[0m\u001b[0mappend\u001b[0m\u001b[1;33m(\u001b[0m\u001b[0mtrainingModelRandomForest\u001b[0m\u001b[1;33m(\u001b[0m\u001b[0mxTrain_Skilled\u001b[0m\u001b[1;33m[\u001b[0m\u001b[0mi\u001b[0m\u001b[1;33m]\u001b[0m\u001b[1;33m,\u001b[0m\u001b[0myTrain_Skilled\u001b[0m\u001b[1;33m[\u001b[0m\u001b[0mi\u001b[0m\u001b[1;33m]\u001b[0m\u001b[1;33m,\u001b[0m\u001b[0mnSamples\u001b[0m\u001b[1;33m,\u001b[0m\u001b[0mmaxDepth\u001b[0m\u001b[1;33m,\u001b[0m\u001b[0mminSampleSplit\u001b[0m\u001b[1;33m,\u001b[0m\u001b[0mminSampleLeaf\u001b[0m\u001b[1;33m,\u001b[0m\u001b[0mmaxFeatures\u001b[0m\u001b[1;33m)\u001b[0m\u001b[1;33m)\u001b[0m\u001b[1;33m\u001b[0m\u001b[1;33m\u001b[0m\u001b[0m\n",
      "\u001b[1;31mNameError\u001b[0m: name 'trainingModelRandomForest' is not defined"
     ]
    }
   ],
   "source": [
    "#Var 1\n",
    "trainedEliteRf1=[]\n",
    "trainedAverageRf1=[]\n",
    "trainedSkilledRf1=[]\n",
    "nSamples=1000\n",
    "maxDepth= None\n",
    "minSampleSplit=10\n",
    "minSampleLeaf=3\n",
    "maxFeatures=7\n",
    "#classWeight=[{0:1,1:1},{0:1,1:1},{0:1,1:1},{0:1,1:1},{0:1,1:1},{0:1,1:1},{0:1,1:1},{0:1,1:1},{0:1,1:1},{0:1,1:1},{0:1,1:1},{0:1,1:1},{0:1,1:1},{0:1,1:1},{0:1,1:5},{0:1,1:1},{0:1,1:1},{0:1,1:1},{0:1,1:1},{0:1,1:1},{0:1,1:1},{0:1,1:1},{0:1,1:1},{0:1,1:1},{0:1,1:1},{0:1,1:1},{0:1,1:1},{0:1,1:1},{0:1,1:1}]\n",
    "#classWeight={0:1 ,1:1 ,2:1 ,3:1 ,4:1 ,5:1 ,6:1 ,7:1 ,8:1 ,9:1 ,10:1 ,11:1 , 12:1 ,13:1 ,14:2 ,15:1 ,16:1 ,17:1 ,18:1 ,19:1 ,20:1 ,21:1 ,22:1 ,23:1 ,24:1 ,25:1 ,26:1 ,27:1 ,28:1 }\n",
    "#classWeight={0:1 ,1:1 ,2:1 ,3:1 ,4:1 ,5:1 ,6:1 ,7:1 ,8:1 ,9:1 ,10:1 ,11:1 , 12:1 ,13:1 ,14:2 ,15:1 ,16:1 ,17:1 ,18:1 ,19:1 ,20:1 ,21:1 ,22:1 ,23:1 ,24:1 ,25:1 ,26:1 ,27:1 ,28:1 }\n",
    "for i in range(0,5):\n",
    "    trainedEliteRf1.append(trainingModelRandomForest(xTrain_Elite[i],yTrain_Elite[i],nSamples,maxDepth,minSampleSplit,minSampleLeaf,maxFeatures))\n",
    "    trainedAverageRf1.append(trainingModelRandomForest(xTrain_Average[i],yTrain_Average[i],nSamples,maxDepth,minSampleSplit,minSampleLeaf,maxFeatures))\n",
    "    trainedSkilledRf1.append(trainingModelRandomForest(xTrain_Skilled[i],yTrain_Skilled[i],nSamples,maxDepth,minSampleSplit,minSampleLeaf,maxFeatures))"
   ]
  },
  {
   "cell_type": "code",
   "execution_count": 80,
   "id": "09d1341f",
   "metadata": {},
   "outputs": [
    {
     "name": "stdout",
     "output_type": "stream",
     "text": [
      "---------  -------  -------  -------  -------  -------  -------\n",
      "           fold 1   fold 2   fold 3   fold 4   fold 5   Average\n",
      "Accuracy   0.78067  0.76259  0.77475  0.78170  0.76144  0.77223\n",
      "Precision  0.78227  0.74856  0.80194  0.78929  0.77709  0.77983\n",
      "Recall     0.79025  0.77343  0.74492  0.76825  0.73202  0.76177\n",
      "F1 Score   0.78624  0.76079  0.77238  0.77863  0.75388  0.77038\n",
      "---------  -------  -------  -------  -------  -------  -------\n"
     ]
    }
   ],
   "source": [
    "#Elite\n",
    "testingLr(trainedEliteRf,xTest_Elite,yTest_Elite)"
   ]
  },
  {
   "cell_type": "code",
   "execution_count": 86,
   "id": "d2a11f4f",
   "metadata": {},
   "outputs": [
    {
     "name": "stdout",
     "output_type": "stream",
     "text": [
      "---------  -------  -------  -------  -------  -------  -------\n",
      "           fold 1   fold 2   fold 3   fold 4   fold 5   Average\n",
      "Accuracy   0.76331  0.76607  0.78112  0.77707  0.76491  0.77050\n",
      "Precision  0.73579  0.73033  0.77371  0.74639  0.74891  0.74702\n",
      "Recall     0.83673  0.82562  0.81038  0.83893  0.79582  0.82150\n",
      "F1 Score   0.78302  0.77506  0.79162  0.78996  0.77165  0.78226\n",
      "---------  -------  -------  -------  -------  -------  -------\n"
     ]
    }
   ],
   "source": [
    "#Elite\n",
    "testingLr(trainedEliteRf1,xTest_Elite,yTest_Elite)"
   ]
  },
  {
   "cell_type": "code",
   "execution_count": null,
   "id": "66599e56",
   "metadata": {},
   "outputs": [],
   "source": []
  }
 ],
 "metadata": {
  "kernelspec": {
   "display_name": "Python 3 (ipykernel)",
   "language": "python",
   "name": "python3"
  },
  "language_info": {
   "codemirror_mode": {
    "name": "ipython",
    "version": 3
   },
   "file_extension": ".py",
   "mimetype": "text/x-python",
   "name": "python",
   "nbconvert_exporter": "python",
   "pygments_lexer": "ipython3",
   "version": "3.9.12"
  }
 },
 "nbformat": 4,
 "nbformat_minor": 5
}

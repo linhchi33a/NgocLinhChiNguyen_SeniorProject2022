{
 "cells": [
  {
   "cell_type": "code",
   "execution_count": 1,
   "id": "fd3b0f91",
   "metadata": {},
   "outputs": [],
   "source": [
    "import numpy as np\n",
    "import pandas as pd"
   ]
  },
  {
   "cell_type": "code",
   "execution_count": 2,
   "id": "b44acdc2",
   "metadata": {},
   "outputs": [],
   "source": [
    "df_AverageFull = pd.read_excel(r'C:\\Users\\linhc\\OneDrive\\Documents\\Sproj\\DataCollection\\Importantfiles\\Average\\Average14MinsDataIdFiltered.xlsx')\n",
    "df_SkilledFull = pd.read_excel(r'C:\\Users\\linhc\\OneDrive\\Documents\\Sproj\\DataCollection\\Importantfiles\\Skilled\\Skilled14MinsDataIdFiltered.xlsx')\n",
    "df_EliteFull = pd.read_excel(r'C:\\Users\\linhc\\OneDrive\\Documents\\Sproj\\DataCollection\\Importantfiles\\Elite\\Elite14MinsDataIdFiltered.xlsx')"
   ]
  },
  {
   "cell_type": "code",
   "execution_count": 3,
   "id": "c1daf29f",
   "metadata": {},
   "outputs": [],
   "source": [
    "df_Average = df_AverageFull.sample(frac = 0.9)\n",
    "testingDataAverage = df_AverageFull.drop(df_Average.index)\n",
    "\n",
    "df_Skilled = df_SkilledFull.sample(frac = 0.9)\n",
    "testingDataSkilled = df_SkilledFull.drop(df_Skilled.index)\n",
    "\n",
    "df_Elite = df_EliteFull.sample(frac = 0.9)\n",
    "testingDataElite = df_EliteFull.drop(df_Elite.index)\n",
    "\n",
    "df_Average.to_excel(excel_writer = \"C:/Users/linhc/OneDrive/Documents/Sproj/DataCollection/Importantfiles/TrainingValData/AverageTrainingVal.xlsx\")\n",
    "testingDataAverage.to_excel(excel_writer = \"C:/Users/linhc/OneDrive/Documents/Sproj/DataCollection/Importantfiles/TestingData/AverageTesting.xlsx\")\n",
    "\n",
    "df_Skilled.to_excel(excel_writer = \"C:/Users/linhc/OneDrive/Documents/Sproj/DataCollection/Importantfiles/TrainingValData/SkilledTrainingVal.xlsx\")\n",
    "testingDataSkilled.to_excel(excel_writer = \"C:/Users/linhc/OneDrive/Documents/Sproj/DataCollection/Importantfiles/TestingData/SkilledTesting.xlsx\")\n",
    "\n",
    "df_Elite.to_excel(excel_writer = \"C:/Users/linhc/OneDrive/Documents/Sproj/DataCollection/Importantfiles/TrainingValData/EliteTrainingVal.xlsx\")\n",
    "testingDataElite.to_excel(excel_writer = \"C:/Users/linhc/OneDrive/Documents/Sproj/DataCollection/Importantfiles/TestingData/EliteTesting.xlsx\")\n"
   ]
  },
  {
   "cell_type": "code",
   "execution_count": null,
   "id": "3d88fe98",
   "metadata": {},
   "outputs": [],
   "source": []
  }
 ],
 "metadata": {
  "kernelspec": {
   "display_name": "Python 3 (ipykernel)",
   "language": "python",
   "name": "python3"
  },
  "language_info": {
   "codemirror_mode": {
    "name": "ipython",
    "version": 3
   },
   "file_extension": ".py",
   "mimetype": "text/x-python",
   "name": "python",
   "nbconvert_exporter": "python",
   "pygments_lexer": "ipython3",
   "version": "3.9.10"
  }
 },
 "nbformat": 4,
 "nbformat_minor": 5
}
